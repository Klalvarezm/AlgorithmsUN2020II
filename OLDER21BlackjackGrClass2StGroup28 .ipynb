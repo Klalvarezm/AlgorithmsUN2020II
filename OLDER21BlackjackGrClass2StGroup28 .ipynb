{
  "nbformat": 4,
  "nbformat_minor": 0,
  "metadata": {
    "colab": {
      "name": "21BlackjackGrClass2StGroup28(1).ipynb",
      "provenance": [],
      "collapsed_sections": [
        "47L8hq5j2eNy",
        "Gzp9W26e5OAp",
        "bDALNOsJ9eom",
        "u4h8ATABDAGn"
      ],
      "toc_visible": true
    },
    "kernelspec": {
      "name": "python3",
      "display_name": "Python 3"
    }
  },
  "cells": [
    {
      "cell_type": "markdown",
      "metadata": {
        "id": "1HnaxxVi1alW",
        "colab_type": "text"
      },
      "source": [
        "#**Lab 4:**  *Monte Carlo – 21 Blackjack*\n",
        "\n",
        "**Integrantes:** Kevin Leonardo Alvarez Mora, Brayan Rolando Jr Portela Cabrera, Christian Camilo Pabon Useche\n",
        "**Grupo:** 2 - 28"
      ]
    },
    {
      "cell_type": "code",
      "metadata": {
        "id": "oU1lVOP7zuIh",
        "colab_type": "code",
        "colab": {}
      },
      "source": [
        "import numpy as np \n",
        "import math\n",
        "import random as r\n",
        "import matplotlib.pyplot as plt\n",
        "import pandas as pd\n",
        "%matplotlib inline"
      ],
      "execution_count": 1,
      "outputs": []
    },
    {
      "cell_type": "markdown",
      "metadata": {
        "id": "47L8hq5j2eNy",
        "colab_type": "text"
      },
      "source": [
        "### Punto 1: \n",
        "**Calcule la probabilidad de obtener 21, sacando cartas secuencialmente a partir de una baraja española de 48 cartas barajadas con los siguientes valores :**\n",
        "[1,2,3,4,5,6,7,10,11,12,1,2,3,4,5,6,7,8,9,10,11,12,1,2,3 , 4,5,6,7,8,9,10,11,12,1,2,3,4,5,6,7,8,9,10,11,12]\n",
        "\n",
        "---\n",
        "\n",
        "**Calcule la probabilidad de obtener 21, sacando cartas secuencialmente a partir de una baraja de Poker de 52 cartas barajadas con los siguientes valores:**\n",
        "[1,2,3,4,5,6,7,8,9,10,11,12,13,1,2,3,4,5,6,7,8,9,10,11,12 , 13,1,2,3,4,5,6,7,8,9,10,11,12,13,1,2,3,4,5,6,7,8,9,10,11 , 12,13].\n",
        "\n",
        "---\n",
        "\n",
        "**Grafique la distribución experimental de los números de cartas necesarios para completar 21 en 10000 pruebas.**"
      ]
    },
    {
      "cell_type": "code",
      "metadata": {
        "id": "zqDk9I9Oz7HB",
        "colab_type": "code",
        "colab": {
          "base_uri": "https://localhost:8080/",
          "height": 362
        },
        "outputId": "32b4e9f3-b4ca-451e-c2e0-2106ff6e9109"
      },
      "source": [
        "#1) Baraja española de 48 cartas\n",
        "cardCounter=[]\n",
        "succsessCounter=[]\n",
        "f,j,c,cardCount =0,0,0,0\n",
        "while j <= 100000:\n",
        "  i = 0                               #iniciamos la mano en 0\n",
        "  nSdeck = [1,2,3,4,5,6,7,10,11,12,1,2,3,4,5,6,7,10,11,12,1,2,3,4,5,6,7,10,11,12,1,2,3,4,5,6,7,10,11,12]\n",
        "  cardCount=0\n",
        "  while i < 21:\n",
        "    rand = r.randrange(len(nSdeck))   # toma un valor aleatorio en el mazo\n",
        "    i += nSdeck[rand]                 #Suma a la mano el valor de la carta\n",
        "    nSdeck.remove(nSdeck[rand])       # quita la carta de la baraja\n",
        "    cardCount+=1                      #sumamos una carta por cada carta que sacamos\n",
        "  if i == 21:\n",
        "    c +=1 \n",
        "    cardCounter.append(cardCount)\n",
        "    succsessCounter.append(c)         #Si se obtiene una 21 se cuenta como exito\n",
        "\n",
        "  j+=1\n",
        "\n",
        "print(\"Cantidad de 21 obtenidos:\" ,c)\n",
        "print(\"Probabilidad de obtener 21 en 100000 intentos\",c/j)\n",
        "data = pd.DataFrame({'numero de cartas': cardCounter, '21 Exitos': succsessCounter})\n",
        "\n",
        "data.groupby('numero de cartas').count()\n"
      ],
      "execution_count": null,
      "outputs": [
        {
          "output_type": "stream",
          "text": [
            "Cantidad de 21 obtenidos: 16076\n",
            "Probabilidad de obtener 21 en 100000 intentos 0.16075839241607584\n"
          ],
          "name": "stdout"
        },
        {
          "output_type": "execute_result",
          "data": {
            "text/html": [
              "<div>\n",
              "<style scoped>\n",
              "    .dataframe tbody tr th:only-of-type {\n",
              "        vertical-align: middle;\n",
              "    }\n",
              "\n",
              "    .dataframe tbody tr th {\n",
              "        vertical-align: top;\n",
              "    }\n",
              "\n",
              "    .dataframe thead th {\n",
              "        text-align: right;\n",
              "    }\n",
              "</style>\n",
              "<table border=\"1\" class=\"dataframe\">\n",
              "  <thead>\n",
              "    <tr style=\"text-align: right;\">\n",
              "      <th></th>\n",
              "      <th>21 Exitos</th>\n",
              "    </tr>\n",
              "    <tr>\n",
              "      <th>numero de cartas</th>\n",
              "      <th></th>\n",
              "    </tr>\n",
              "  </thead>\n",
              "  <tbody>\n",
              "    <tr>\n",
              "      <th>2</th>\n",
              "      <td>2111</td>\n",
              "    </tr>\n",
              "    <tr>\n",
              "      <th>3</th>\n",
              "      <td>5118</td>\n",
              "    </tr>\n",
              "    <tr>\n",
              "      <th>4</th>\n",
              "      <td>5205</td>\n",
              "    </tr>\n",
              "    <tr>\n",
              "      <th>5</th>\n",
              "      <td>2603</td>\n",
              "    </tr>\n",
              "    <tr>\n",
              "      <th>6</th>\n",
              "      <td>820</td>\n",
              "    </tr>\n",
              "    <tr>\n",
              "      <th>7</th>\n",
              "      <td>191</td>\n",
              "    </tr>\n",
              "    <tr>\n",
              "      <th>8</th>\n",
              "      <td>26</td>\n",
              "    </tr>\n",
              "    <tr>\n",
              "      <th>9</th>\n",
              "      <td>2</td>\n",
              "    </tr>\n",
              "  </tbody>\n",
              "</table>\n",
              "</div>"
            ],
            "text/plain": [
              "                  21 Exitos\n",
              "numero de cartas           \n",
              "2                      2111\n",
              "3                      5118\n",
              "4                      5205\n",
              "5                      2603\n",
              "6                       820\n",
              "7                       191\n",
              "8                        26\n",
              "9                         2"
            ]
          },
          "metadata": {
            "tags": []
          },
          "execution_count": 2
        }
      ]
    },
    {
      "cell_type": "markdown",
      "metadata": {
        "id": "vxRkXb1lclxu",
        "colab_type": "text"
      },
      "source": [
        "**Como se hace uso del mismo codigo a lo largo del taller se enuncia en cada seccion los cambios hechos para su uso.**"
      ]
    },
    {
      "cell_type": "code",
      "metadata": {
        "id": "He6gpyfTCkbT",
        "colab_type": "code",
        "colab": {
          "base_uri": "https://localhost:8080/",
          "height": 853
        },
        "outputId": "762b971f-4264-42b0-8b7d-cc5374612b97"
      },
      "source": [
        "data.groupby('numero de cartas').count().plot()\n",
        "data.groupby('numero de cartas').count().plot.bar()\n",
        "data.hist(bins=8)"
      ],
      "execution_count": null,
      "outputs": [
        {
          "output_type": "execute_result",
          "data": {
            "text/plain": [
              "array([[<matplotlib.axes._subplots.AxesSubplot object at 0x7f326148fb70>,\n",
              "        <matplotlib.axes._subplots.AxesSubplot object at 0x7f32614c1a20>]],\n",
              "      dtype=object)"
            ]
          },
          "metadata": {
            "tags": []
          },
          "execution_count": 3
        },
        {
          "output_type": "display_data",
          "data": {
            "image/png": "[encoded data removed]",
            "text/plain": [
              "<Figure size 432x288 with 1 Axes>"
            ]
          },
          "metadata": {
            "tags": [],
            "needs_background": "light"
          }
        },
        {
          "output_type": "display_data",
          "data": {
            "image/png": "[encoded data removed]",
            "text/plain": [
              "<Figure size 432x288 with 1 Axes>"
            ]
          },
          "metadata": {
            "tags": [],
            "needs_background": "light"
          }
        },
        {
          "output_type": "display_data",
          "data": {
            "image/png": "[encoded data removed]",
            "text/plain": [
              "<Figure size 432x288 with 2 Axes>"
            ]
          },
          "metadata": {
            "tags": [],
            "needs_background": "light"
          }
        }
      ]
    },
    {
      "cell_type": "code",
      "metadata": {
        "id": "4xxw9uOf9D1k",
        "colab_type": "code",
        "colab": {
          "base_uri": "https://localhost:8080/",
          "height": 331
        },
        "outputId": "86a01838-0de4-46e1-aadb-724c0adf11d7"
      },
      "source": [
        "#1)Baraja de Poker de 52 cartas\n",
        "cardCounter2=[]\n",
        "succsessCounter2=[]\n",
        "j2 = 0   \n",
        "c2 = 0 \n",
        "cardCount2=0\n",
        "while j2 <= 100000:\n",
        "  i2 = 0\n",
        "  nSdeck2 = [1,2,3,4,5,6,7,8,9,10,11,12,13,1,2,3,4,5,6,7,8,9,10,11,12,13,1,2,3,4,5,6,7,8,9,10,11,12,13,1,2,3,4,5,6,7,8,9,10,11,12,13]\n",
        "  cardCount2=0\n",
        "  while i2 < 21:\n",
        "    rand2 = r.randrange(len(nSdeck2)) \n",
        "    i2 += nSdeck2[rand2]\n",
        "    nSdeck2.remove(nSdeck2[rand2]) \n",
        "    cardCount2+=1\n",
        "  if i2 == 21:\n",
        "    c2 +=1\n",
        "    cardCounter2.append(cardCount2)\n",
        "    succsessCounter2.append(c2)\n",
        "\n",
        "  j2+=1\n",
        "\n",
        "print(\"Cantidad de 21 obtenidos POKER:\" ,c2)\n",
        "print(\"Probabilidad de obtener 21 en 100000 intentos Poker\",c2/j2)\n",
        "data2 = pd.DataFrame({'numero de cartas': cardCounter2, '21 Exitos': succsessCounter2})\n",
        "\n",
        "data2.groupby('numero de cartas').count()\n",
        "\n"
      ],
      "execution_count": null,
      "outputs": [
        {
          "output_type": "stream",
          "text": [
            "Cantidad de 21 obtenidos POKER: 14425\n",
            "Probabilidad de obtener 21 en 100000 intentos Poker 0.14424855751442486\n"
          ],
          "name": "stdout"
        },
        {
          "output_type": "execute_result",
          "data": {
            "text/html": [
              "<div>\n",
              "<style scoped>\n",
              "    .dataframe tbody tr th:only-of-type {\n",
              "        vertical-align: middle;\n",
              "    }\n",
              "\n",
              "    .dataframe tbody tr th {\n",
              "        vertical-align: top;\n",
              "    }\n",
              "\n",
              "    .dataframe thead th {\n",
              "        text-align: right;\n",
              "    }\n",
              "</style>\n",
              "<table border=\"1\" class=\"dataframe\">\n",
              "  <thead>\n",
              "    <tr style=\"text-align: right;\">\n",
              "      <th></th>\n",
              "      <th>21 Exitos</th>\n",
              "    </tr>\n",
              "    <tr>\n",
              "      <th>numero de cartas</th>\n",
              "      <th></th>\n",
              "    </tr>\n",
              "  </thead>\n",
              "  <tbody>\n",
              "    <tr>\n",
              "      <th>2</th>\n",
              "      <td>3610</td>\n",
              "    </tr>\n",
              "    <tr>\n",
              "      <th>3</th>\n",
              "      <td>5864</td>\n",
              "    </tr>\n",
              "    <tr>\n",
              "      <th>4</th>\n",
              "      <td>3598</td>\n",
              "    </tr>\n",
              "    <tr>\n",
              "      <th>5</th>\n",
              "      <td>1088</td>\n",
              "    </tr>\n",
              "    <tr>\n",
              "      <th>6</th>\n",
              "      <td>234</td>\n",
              "    </tr>\n",
              "    <tr>\n",
              "      <th>7</th>\n",
              "      <td>30</td>\n",
              "    </tr>\n",
              "    <tr>\n",
              "      <th>9</th>\n",
              "      <td>1</td>\n",
              "    </tr>\n",
              "  </tbody>\n",
              "</table>\n",
              "</div>"
            ],
            "text/plain": [
              "                  21 Exitos\n",
              "numero de cartas           \n",
              "2                      3610\n",
              "3                      5864\n",
              "4                      3598\n",
              "5                      1088\n",
              "6                       234\n",
              "7                        30\n",
              "9                         1"
            ]
          },
          "metadata": {
            "tags": []
          },
          "execution_count": 4
        }
      ]
    },
    {
      "cell_type": "code",
      "metadata": {
        "id": "moO_hUsyCdvd",
        "colab_type": "code",
        "colab": {
          "base_uri": "https://localhost:8080/",
          "height": 853
        },
        "outputId": "a0fe1d83-2464-4106-ed61-e9ed0c35ed54"
      },
      "source": [
        "data2.groupby('numero de cartas').count().plot()\n",
        "data2.groupby('numero de cartas').count().plot.bar()\n",
        "data2.hist(bins=8)"
      ],
      "execution_count": null,
      "outputs": [
        {
          "output_type": "execute_result",
          "data": {
            "text/plain": [
              "array([[<matplotlib.axes._subplots.AxesSubplot object at 0x7f3260dc7940>,\n",
              "        <matplotlib.axes._subplots.AxesSubplot object at 0x7f3260df97f0>]],\n",
              "      dtype=object)"
            ]
          },
          "metadata": {
            "tags": []
          },
          "execution_count": 5
        },
        {
          "output_type": "display_data",
          "data": {
            "image/png": "[encoded data removed]",
            "text/plain": [
              "<Figure size 432x288 with 1 Axes>"
            ]
          },
          "metadata": {
            "tags": [],
            "needs_background": "light"
          }
        },
        {
          "output_type": "display_data",
          "data": {
            "image/png": "[encoded data removed]",
            "text/plain": [
              "<Figure size 432x288 with 1 Axes>"
            ]
          },
          "metadata": {
            "tags": [],
            "needs_background": "light"
          }
        },
        {
          "output_type": "display_data",
          "data": {
            "image/png": "[encoded data removed]",
            "text/plain": [
              "<Figure size 432x288 with 2 Axes>"
            ]
          },
          "metadata": {
            "tags": [],
            "needs_background": "light"
          }
        }
      ]
    },
    {
      "cell_type": "markdown",
      "metadata": {
        "id": "Gzp9W26e5OAp",
        "colab_type": "text"
      },
      "source": [
        "###Punto 2:\n",
        "***Calcule la probabilidad de obtener 21 sacando cartas secuencialmente a partir de una baraja española de 48 cartas, barajada con valores de cartas:***\n",
        "[1,2,3,4,5,6,7,8,9,10,10,10,1,2,3,4,5,6,7,8,9,10,10,10,1,2,3,4,5,6,7,8,9,10,10,10,1,2,3,4,5,6,7,8,9,10,10,10] \n",
        "\n",
        "---\n",
        "\n",
        "***Calcule la probabilidad de obtener 21 sacando cartas secuencialmente a partir de una baraja de póker de 52 cartas, barajada con valores de cartas:***[1,2,3,4,5,6,7,8,9,10,10,10,10,1, 2,3,4,5,6,7,8,9,10,10,10,10,1,2,3,4,5,6,7,8,9,10,10,10,10, 1,2,3,4,5,6,7,8,9,10,10,10,10] \n",
        "\n",
        "*Para las barajas de cartas de español y póker grafique la distribución experimental de los números de tarjeta necesarios para completar __21 en 10000 simulaciones__.*"
      ]
    },
    {
      "cell_type": "code",
      "metadata": {
        "id": "HuI7EJ6G-Obt",
        "colab_type": "code",
        "colab": {
          "base_uri": "https://localhost:8080/",
          "height": 300
        },
        "outputId": "3622d90c-90f1-4044-c734-b24422aa278f"
      },
      "source": [
        "#2)Segundo Punto Baraja Española Modificada \n",
        "cardCounterESP2=[]\n",
        "succsessCounterESP2=[]\n",
        "jESP2 = 0   \n",
        "cESP2 = 0 \n",
        "cardCountESP2=0\n",
        "while jESP2 <= 100000:\n",
        "  iESP2 = 0\n",
        "  nSdeckESP2 = [1,2,3,4,5,6,7,8,9,10,10,10,1,2,3,4,5,6,7,8,9,10,10,10,1,2,3,4,5,6,7,8,9,10,10,10,1,2,3,4,5,6,7,8,9,10,10,10]\n",
        "  cardCountESP2=0\n",
        "  while iESP2 < 21:\n",
        "    randESP2 = r.randrange(len(nSdeckESP2)) \n",
        "    iESP2 += nSdeckESP2[randESP2]\n",
        "    nSdeckESP2.remove(nSdeckESP2[randESP2]) \n",
        "    cardCountESP2+=1\n",
        "  if iESP2 == 21:\n",
        "    cESP2 +=1\n",
        "    cardCounterESP2.append(cardCountESP2)\n",
        "    succsessCounterESP2.append(cESP2)\n",
        "  \n",
        "  jESP2+=1\n",
        "\n",
        "print(\"Cantidad de 21 obtenidos ESPAÑOLA PUNTO 2:\" ,cESP2)\n",
        "print(\"Probabilidad de obtener 21 en 100000 intentos Poker\",cESP2/jESP2)\n",
        "dataESP2 = pd.DataFrame({'numero de cartas': cardCounterESP2, '21 Exitos': succsessCounterESP2})\n",
        "dataESP2.groupby('numero de cartas').count()\n",
        "\n"
      ],
      "execution_count": null,
      "outputs": [
        {
          "output_type": "stream",
          "text": [
            "Cantidad de 21 obtenidos ESPAÑOLA PUNTO 2: 14955\n",
            "Probabilidad de obtener 21 en 100000 intentos Poker 0.14954850451495486\n"
          ],
          "name": "stdout"
        },
        {
          "output_type": "execute_result",
          "data": {
            "text/html": [
              "<div>\n",
              "<style scoped>\n",
              "    .dataframe tbody tr th:only-of-type {\n",
              "        vertical-align: middle;\n",
              "    }\n",
              "\n",
              "    .dataframe tbody tr th {\n",
              "        vertical-align: top;\n",
              "    }\n",
              "\n",
              "    .dataframe thead th {\n",
              "        text-align: right;\n",
              "    }\n",
              "</style>\n",
              "<table border=\"1\" class=\"dataframe\">\n",
              "  <thead>\n",
              "    <tr style=\"text-align: right;\">\n",
              "      <th></th>\n",
              "      <th>21 Exitos</th>\n",
              "    </tr>\n",
              "    <tr>\n",
              "      <th>numero de cartas</th>\n",
              "      <th></th>\n",
              "    </tr>\n",
              "  </thead>\n",
              "  <tbody>\n",
              "    <tr>\n",
              "      <th>3</th>\n",
              "      <td>7485</td>\n",
              "    </tr>\n",
              "    <tr>\n",
              "      <th>4</th>\n",
              "      <td>5071</td>\n",
              "    </tr>\n",
              "    <tr>\n",
              "      <th>5</th>\n",
              "      <td>1881</td>\n",
              "    </tr>\n",
              "    <tr>\n",
              "      <th>6</th>\n",
              "      <td>453</td>\n",
              "    </tr>\n",
              "    <tr>\n",
              "      <th>7</th>\n",
              "      <td>59</td>\n",
              "    </tr>\n",
              "    <tr>\n",
              "      <th>8</th>\n",
              "      <td>6</td>\n",
              "    </tr>\n",
              "  </tbody>\n",
              "</table>\n",
              "</div>"
            ],
            "text/plain": [
              "                  21 Exitos\n",
              "numero de cartas           \n",
              "3                      7485\n",
              "4                      5071\n",
              "5                      1881\n",
              "6                       453\n",
              "7                        59\n",
              "8                         6"
            ]
          },
          "metadata": {
            "tags": []
          },
          "execution_count": 6
        }
      ]
    },
    {
      "cell_type": "code",
      "metadata": {
        "id": "UnqCYblVCzOM",
        "colab_type": "code",
        "colab": {
          "base_uri": "https://localhost:8080/",
          "height": 853
        },
        "outputId": "cc44a43b-4f05-4cd3-b8f5-5bc6c27a6e16"
      },
      "source": [
        "dataESP2.groupby('numero de cartas').count().plot()\n",
        "dataESP2.groupby('numero de cartas').count().plot.bar()\n",
        "dataESP2.hist(bins=8)"
      ],
      "execution_count": null,
      "outputs": [
        {
          "output_type": "execute_result",
          "data": {
            "text/plain": [
              "array([[<matplotlib.axes._subplots.AxesSubplot object at 0x7f3260b97710>,\n",
              "        <matplotlib.axes._subplots.AxesSubplot object at 0x7f3260b44748>]],\n",
              "      dtype=object)"
            ]
          },
          "metadata": {
            "tags": []
          },
          "execution_count": 7
        },
        {
          "output_type": "display_data",
          "data": {
            "image/png": "[encoded data removed]",
            "text/plain": [
              "<Figure size 432x288 with 1 Axes>"
            ]
          },
          "metadata": {
            "tags": [],
            "needs_background": "light"
          }
        },
        {
          "output_type": "display_data",
          "data": {
            "image/png": "[encoded data removed]",
            "text/plain": [
              "<Figure size 432x288 with 1 Axes>"
            ]
          },
          "metadata": {
            "tags": [],
            "needs_background": "light"
          }
        },
        {
          "output_type": "display_data",
          "data": {
            "image/png": "[encoded data removed]",
            "text/plain": [
              "<Figure size 432x288 with 2 Axes>"
            ]
          },
          "metadata": {
            "tags": [],
            "needs_background": "light"
          }
        }
      ]
    },
    {
      "cell_type": "code",
      "metadata": {
        "id": "7fSfGa9bAbot",
        "colab_type": "code",
        "colab": {
          "base_uri": "https://localhost:8080/",
          "height": 300
        },
        "outputId": "73dff102-b790-4645-fc9c-cd9482fa7ddd"
      },
      "source": [
        "#2)Segundo Punto Baraja de Poker Modificada\n",
        "cardCounterPOKER2=[]\n",
        "succsessCounterPOKER2=[]\n",
        "jPOKER2 = 0   \n",
        "cPOKER2 = 0 \n",
        "cardCountPOKER2=0\n",
        "while jPOKER2 <= 100000:\n",
        "  iPOKER2 = 0\n",
        "  nSdeckPOKER2 = [1,2,3,4,5,6,7,8,9,10,10,10,10,1,2,3,4,5,6,7,8,9,10,10,10,10,1,2,3,4,5,6,7,8,9,10,10,10,10,1,2,3,4,5,6,7,8,9,10,10,10,10]\n",
        "  cardCountPOKER2=0\n",
        "  while iPOKER2 < 21:\n",
        "    randPOKER2 = r.randrange(len(nSdeckPOKER2)) \n",
        "    iPOKER2 += nSdeckPOKER2[randPOKER2]\n",
        "    nSdeckPOKER2.remove(nSdeckPOKER2[randPOKER2])\n",
        "    cardCountPOKER2+=1 \n",
        "  if iPOKER2 == 21:\n",
        "    cPOKER2 +=1\n",
        "    cardCounterPOKER2.append(cardCountPOKER2)\n",
        "    succsessCounterPOKER2.append(cPOKER2)\n",
        "    \n",
        "  jPOKER2+=1\n",
        "\n",
        "print(\"Cantidad de 21 obtenidos POKER PUNTO 2:\" ,cPOKER2)\n",
        "print(\"Probabilidad de obtener 21 en 100000 intentos Poker\",cPOKER2/jPOKER2)\n",
        "dataPOKER2 = pd.DataFrame({'Numero de cartas': cardCounterPOKER2, '21 Obtenidos': succsessCounterPOKER2})\n",
        "dataPOKER2.groupby('Numero de cartas').count()\n"
      ],
      "execution_count": null,
      "outputs": [
        {
          "output_type": "stream",
          "text": [
            "Cantidad de 21 obtenidos POKER PUNTO 2: 14191\n",
            "Probabilidad de obtener 21 en 100000 intentos Poker 0.14190858091419087\n"
          ],
          "name": "stdout"
        },
        {
          "output_type": "execute_result",
          "data": {
            "text/html": [
              "<div>\n",
              "<style scoped>\n",
              "    .dataframe tbody tr th:only-of-type {\n",
              "        vertical-align: middle;\n",
              "    }\n",
              "\n",
              "    .dataframe tbody tr th {\n",
              "        vertical-align: top;\n",
              "    }\n",
              "\n",
              "    .dataframe thead th {\n",
              "        text-align: right;\n",
              "    }\n",
              "</style>\n",
              "<table border=\"1\" class=\"dataframe\">\n",
              "  <thead>\n",
              "    <tr style=\"text-align: right;\">\n",
              "      <th></th>\n",
              "      <th>21 Obtenidos</th>\n",
              "    </tr>\n",
              "    <tr>\n",
              "      <th>Numero de cartas</th>\n",
              "      <th></th>\n",
              "    </tr>\n",
              "  </thead>\n",
              "  <tbody>\n",
              "    <tr>\n",
              "      <th>3</th>\n",
              "      <td>8120</td>\n",
              "    </tr>\n",
              "    <tr>\n",
              "      <th>4</th>\n",
              "      <td>4274</td>\n",
              "    </tr>\n",
              "    <tr>\n",
              "      <th>5</th>\n",
              "      <td>1476</td>\n",
              "    </tr>\n",
              "    <tr>\n",
              "      <th>6</th>\n",
              "      <td>283</td>\n",
              "    </tr>\n",
              "    <tr>\n",
              "      <th>7</th>\n",
              "      <td>37</td>\n",
              "    </tr>\n",
              "    <tr>\n",
              "      <th>8</th>\n",
              "      <td>1</td>\n",
              "    </tr>\n",
              "  </tbody>\n",
              "</table>\n",
              "</div>"
            ],
            "text/plain": [
              "                  21 Obtenidos\n",
              "Numero de cartas              \n",
              "3                         8120\n",
              "4                         4274\n",
              "5                         1476\n",
              "6                          283\n",
              "7                           37\n",
              "8                            1"
            ]
          },
          "metadata": {
            "tags": []
          },
          "execution_count": 8
        }
      ]
    },
    {
      "cell_type": "code",
      "metadata": {
        "id": "_pdelvwuC7th",
        "colab_type": "code",
        "colab": {
          "base_uri": "https://localhost:8080/",
          "height": 853
        },
        "outputId": "b84b896c-cdeb-405e-9b72-3a3a7ed4c6b2"
      },
      "source": [
        "dataPOKER2.groupby('Numero de cartas').count().plot()\n",
        "dataPOKER2.groupby('Numero de cartas').count().plot.bar()\n",
        "dataPOKER2.hist(bins=8)"
      ],
      "execution_count": null,
      "outputs": [
        {
          "output_type": "execute_result",
          "data": {
            "text/plain": [
              "array([[<matplotlib.axes._subplots.AxesSubplot object at 0x7f326094db38>,\n",
              "        <matplotlib.axes._subplots.AxesSubplot object at 0x7f32608fd6d8>]],\n",
              "      dtype=object)"
            ]
          },
          "metadata": {
            "tags": []
          },
          "execution_count": 9
        },
        {
          "output_type": "display_data",
          "data": {
            "image/png": "[encoded data removed]",
            "text/plain": [
              "<Figure size 432x288 with 1 Axes>"
            ]
          },
          "metadata": {
            "tags": [],
            "needs_background": "light"
          }
        },
        {
          "output_type": "display_data",
          "data": {
            "image/png": "[encoded data removed]",
            "text/plain": [
              "<Figure size 432x288 with 1 Axes>"
            ]
          },
          "metadata": {
            "tags": [],
            "needs_background": "light"
          }
        },
        {
          "output_type": "display_data",
          "data": {
            "image/png": "[encoded data removed]",
            "text/plain": [
              "<Figure size 432x288 with 2 Axes>"
            ]
          },
          "metadata": {
            "tags": [],
            "needs_background": "light"
          }
        }
      ]
    },
    {
      "cell_type": "markdown",
      "metadata": {
        "id": "bDALNOsJ9eom",
        "colab_type": "text"
      },
      "source": [
        "###Punto 3:\n",
        "**C**alcule la probabilidad de sacar un 21, con la baraja de cartas de español y póquer, asumiendo que está en la mitad del juego y la baraja restante tiene **_n/2**_ cartas y tienes las cartas [7,7,5].\n",
        "\n",
        "Elija arbitrariamente qué cartas hay en el mazo restante con la única restricción de que **hay un máximo de dos 7 y tres 5**. Grafique la distribución experimental de los números de cartas necesarios para **completar 21 en 10000 simulaciones**."
      ]
    },
    {
      "cell_type": "code",
      "metadata": {
        "id": "xmK2MPZ2AbpH",
        "colab_type": "code",
        "colab": {
          "base_uri": "https://localhost:8080/",
          "height": 176
        },
        "outputId": "aef91b60-7068-40e8-a83b-5dca0e5494f5"
      },
      "source": [
        "#3a) Media baraja española partida simetricamente\n",
        "cardCounterESP3=[]\n",
        "succsessCounterESP3=[]\n",
        "jESP3 = 0   \n",
        "cESP3 = 0 \n",
        "scsESP3 = []\n",
        "cardCountESP3=0\n",
        "while jESP3 <= 100000:\n",
        "  iESP3 = 19\n",
        "  nSdeckESP3 = [1,2,3,4,5,6,7,8,9,10,11,12,13,1,2,3,4,5,6,7,8,9,10,11,12,13]\n",
        "  handESP3 = [7,7,5]\n",
        "  cardCountESP3=0\n",
        "  while iESP3 < 21:\n",
        "    randESP3 = r.randrange(len(nSdeckESP3)) \n",
        "    iESP3 += nSdeckESP3[randESP3]\n",
        "    handESP3.append(nSdeckESP3[randESP3])\n",
        "    nSdeckESP3.remove(nSdeckESP3[randESP3]) # quita la carta de la baraja\n",
        "    cardCountESP3+=1\n",
        "  if iESP3 == 21:\n",
        "    cESP3 +=1\n",
        "    scsESP3.append(len(handESP3))\n",
        "    cardCounterESP3.append(cardCountESP3)\n",
        "    succsessCounterESP3.append(cESP3)\n",
        "  jESP3+=1\n",
        "\n",
        "print(\"Cantidad de 21 obtenidos:\" ,cESP3)\n",
        "print(\"Probabilidad de obtener 21 en 10000 intentos\",cESP3/jESP3)\n",
        "\n",
        "dataESP3 = pd.DataFrame({'numero de cartas': cardCounterESP3, '21 Exitos': succsessCounterESP3})\n",
        "dataESP3.groupby('numero de cartas').count()"
      ],
      "execution_count": null,
      "outputs": [
        {
          "output_type": "stream",
          "text": [
            "Cantidad de 21 obtenidos: 8140\n",
            "Probabilidad de obtener 21 en 10000 intentos 0.08139918600813992\n"
          ],
          "name": "stdout"
        },
        {
          "output_type": "execute_result",
          "data": {
            "text/html": [
              "<div>\n",
              "<style scoped>\n",
              "    .dataframe tbody tr th:only-of-type {\n",
              "        vertical-align: middle;\n",
              "    }\n",
              "\n",
              "    .dataframe tbody tr th {\n",
              "        vertical-align: top;\n",
              "    }\n",
              "\n",
              "    .dataframe thead th {\n",
              "        text-align: right;\n",
              "    }\n",
              "</style>\n",
              "<table border=\"1\" class=\"dataframe\">\n",
              "  <thead>\n",
              "    <tr style=\"text-align: right;\">\n",
              "      <th></th>\n",
              "      <th>21 Exitos</th>\n",
              "    </tr>\n",
              "    <tr>\n",
              "      <th>numero de cartas</th>\n",
              "      <th></th>\n",
              "    </tr>\n",
              "  </thead>\n",
              "  <tbody>\n",
              "    <tr>\n",
              "      <th>1</th>\n",
              "      <td>7810</td>\n",
              "    </tr>\n",
              "    <tr>\n",
              "      <th>2</th>\n",
              "      <td>330</td>\n",
              "    </tr>\n",
              "  </tbody>\n",
              "</table>\n",
              "</div>"
            ],
            "text/plain": [
              "                  21 Exitos\n",
              "numero de cartas           \n",
              "1                      7810\n",
              "2                       330"
            ]
          },
          "metadata": {
            "tags": []
          },
          "execution_count": 10
        }
      ]
    },
    {
      "cell_type": "code",
      "metadata": {
        "id": "18wSlPgI6bOu",
        "colab_type": "code",
        "colab": {
          "base_uri": "https://localhost:8080/",
          "height": 853
        },
        "outputId": "2ae5ed9e-a65c-4c14-ce90-6dc9337f00ca"
      },
      "source": [
        "dataESP3.groupby('numero de cartas').count().plot()\n",
        "dataESP3.groupby('numero de cartas').count().plot.bar()\n",
        "dataESP3.hist(bins=5)"
      ],
      "execution_count": null,
      "outputs": [
        {
          "output_type": "execute_result",
          "data": {
            "text/plain": [
              "array([[<matplotlib.axes._subplots.AxesSubplot object at 0x7f32609f6b00>,\n",
              "        <matplotlib.axes._subplots.AxesSubplot object at 0x7f3260b06860>]],\n",
              "      dtype=object)"
            ]
          },
          "metadata": {
            "tags": []
          },
          "execution_count": 11
        },
        {
          "output_type": "display_data",
          "data": {
            "image/png": "[encoded data removed]",
            "text/plain": [
              "<Figure size 432x288 with 1 Axes>"
            ]
          },
          "metadata": {
            "tags": [],
            "needs_background": "light"
          }
        },
        {
          "output_type": "display_data",
          "data": {
            "image/png": "[encoded data removed]",
            "text/plain": [
              "<Figure size 432x288 with 1 Axes>"
            ]
          },
          "metadata": {
            "tags": [],
            "needs_background": "light"
          }
        },
        {
          "output_type": "display_data",
          "data": {
            "image/png": "[encoded data removed]",
            "text/plain": [
              "<Figure size 432x288 with 2 Axes>"
            ]
          },
          "metadata": {
            "tags": [],
            "needs_background": "light"
          }
        }
      ]
    },
    {
      "cell_type": "code",
      "metadata": {
        "id": "tpZacPMdCWNM",
        "colab_type": "code",
        "colab": {
          "base_uri": "https://localhost:8080/",
          "height": 501
        },
        "outputId": "a0c86d16-8a3d-45b6-ee03-6f68e75f6d93"
      },
      "source": [
        "#3b)Media baraja española con seleccion aleatoria y restricciones\n",
        "\n",
        "#otra opcion del 3)\n",
        "\n",
        "\n",
        "\n",
        "j = 0   \n",
        "c = 0 \n",
        "scs = []\n",
        "cardCounterESP3B=[]\n",
        "succsessCounterESP3B=[]\n",
        "cardCountESP3B=0\n",
        "while j <= 10000:\n",
        "  nSdeck =[1,2,3,4,5,6,8,9,10,11,12,1,2,3,4,5,6,8,9,10,11,12,1,2,3,4,6,7,8,9,10,11,12,1,2,3,4,5,6,7,8,9,10,11,12]\n",
        "  hand = [7,7,5]\n",
        "  i=19\n",
        "  for k in range(0,21):\n",
        "    rand = r.randrange(len(nSdeck))# toma un valor aleatorio en el mazo\n",
        "    nSdeck.remove(nSdeck[rand]) # quita la carta de la baraja \n",
        "    cardCountESP3B+=1\n",
        "  while i < 21:\n",
        "    rand = r.randrange(len(nSdeck)) \n",
        "    i += nSdeck[rand]\n",
        "    hand.append(nSdeck[rand])\n",
        "    nSdeck.remove(nSdeck[rand]) # quita la carta de la baraja\n",
        "  if i == 21:\n",
        "    c +=1\n",
        "    scs.append(len(hand))\n",
        "    cardCounterESP3B.append(cardCountESP3B)\n",
        "    succsessCounterESP3B.append(c)\n",
        "  j+=1\n",
        "\n",
        "\n",
        "\n",
        "print(\"Cantidad de 21 obtenidos:\" ,c)\n",
        "print(\"Probabilidad de obtener 21 en 100000 intentos\",c/j)\n",
        "print(\"Media de cartas\",np.mean(scs))\n",
        "dataESP3B = pd.DataFrame({'numero de cartas': cardCounterESP3B, '21 Exitos': succsessCounterESP3B})\n",
        "dataESP3B.groupby('numero de cartas').count()"
      ],
      "execution_count": null,
      "outputs": [
        {
          "output_type": "stream",
          "text": [
            "Cantidad de 21 obtenidos: 972\n",
            "Probabilidad de obtener 21 en 100000 intentos 0.09719028097190281\n",
            "Media de cartas 4.064814814814815\n"
          ],
          "name": "stdout"
        },
        {
          "output_type": "execute_result",
          "data": {
            "text/html": [
              "<div>\n",
              "<style scoped>\n",
              "    .dataframe tbody tr th:only-of-type {\n",
              "        vertical-align: middle;\n",
              "    }\n",
              "\n",
              "    .dataframe tbody tr th {\n",
              "        vertical-align: top;\n",
              "    }\n",
              "\n",
              "    .dataframe thead th {\n",
              "        text-align: right;\n",
              "    }\n",
              "</style>\n",
              "<table border=\"1\" class=\"dataframe\">\n",
              "  <thead>\n",
              "    <tr style=\"text-align: right;\">\n",
              "      <th></th>\n",
              "      <th>21 Exitos</th>\n",
              "    </tr>\n",
              "    <tr>\n",
              "      <th>numero de cartas</th>\n",
              "      <th></th>\n",
              "    </tr>\n",
              "  </thead>\n",
              "  <tbody>\n",
              "    <tr>\n",
              "      <th>147</th>\n",
              "      <td>1</td>\n",
              "    </tr>\n",
              "    <tr>\n",
              "      <th>273</th>\n",
              "      <td>1</td>\n",
              "    </tr>\n",
              "    <tr>\n",
              "      <th>651</th>\n",
              "      <td>1</td>\n",
              "    </tr>\n",
              "    <tr>\n",
              "      <th>714</th>\n",
              "      <td>1</td>\n",
              "    </tr>\n",
              "    <tr>\n",
              "      <th>735</th>\n",
              "      <td>1</td>\n",
              "    </tr>\n",
              "    <tr>\n",
              "      <th>...</th>\n",
              "      <td>...</td>\n",
              "    </tr>\n",
              "    <tr>\n",
              "      <th>208299</th>\n",
              "      <td>1</td>\n",
              "    </tr>\n",
              "    <tr>\n",
              "      <th>208698</th>\n",
              "      <td>1</td>\n",
              "    </tr>\n",
              "    <tr>\n",
              "      <th>209307</th>\n",
              "      <td>1</td>\n",
              "    </tr>\n",
              "    <tr>\n",
              "      <th>209328</th>\n",
              "      <td>1</td>\n",
              "    </tr>\n",
              "    <tr>\n",
              "      <th>209643</th>\n",
              "      <td>1</td>\n",
              "    </tr>\n",
              "  </tbody>\n",
              "</table>\n",
              "<p>972 rows × 1 columns</p>\n",
              "</div>"
            ],
            "text/plain": [
              "                  21 Exitos\n",
              "numero de cartas           \n",
              "147                       1\n",
              "273                       1\n",
              "651                       1\n",
              "714                       1\n",
              "735                       1\n",
              "...                     ...\n",
              "208299                    1\n",
              "208698                    1\n",
              "209307                    1\n",
              "209328                    1\n",
              "209643                    1\n",
              "\n",
              "[972 rows x 1 columns]"
            ]
          },
          "metadata": {
            "tags": []
          },
          "execution_count": 12
        }
      ]
    },
    {
      "cell_type": "code",
      "metadata": {
        "id": "2I96vNaB7Tzs",
        "colab_type": "code",
        "colab": {
          "base_uri": "https://localhost:8080/",
          "height": 885
        },
        "outputId": "55912f18-a1a0-4124-cd39-f44762d76137"
      },
      "source": [
        "dataESP3B.groupby('numero de cartas').count().plot()\n",
        "dataESP3B.groupby('numero de cartas').count().plot.bar()\n",
        "dataESP3B.hist(bins=5)"
      ],
      "execution_count": null,
      "outputs": [
        {
          "output_type": "execute_result",
          "data": {
            "text/plain": [
              "array([[<matplotlib.axes._subplots.AxesSubplot object at 0x7f325f9345f8>,\n",
              "        <matplotlib.axes._subplots.AxesSubplot object at 0x7f325f8e90b8>]],\n",
              "      dtype=object)"
            ]
          },
          "metadata": {
            "tags": []
          },
          "execution_count": 13
        },
        {
          "output_type": "display_data",
          "data": {
            "image/png": "[encoded data removed]",
            "text/plain": [
              "<Figure size 432x288 with 1 Axes>"
            ]
          },
          "metadata": {
            "tags": [],
            "needs_background": "light"
          }
        },
        {
          "output_type": "display_data",
          "data": {
            "image/png": "[encoded data removed]",
            "text/plain": [
              "<Figure size 432x288 with 1 Axes>"
            ]
          },
          "metadata": {
            "tags": [],
            "needs_background": "light"
          }
        },
        {
          "output_type": "display_data",
          "data": {
            "image/png": "[encoded data removed]",
            "text/plain": [
              "<Figure size 432x288 with 2 Axes>"
            ]
          },
          "metadata": {
            "tags": [],
            "needs_background": "light"
          }
        }
      ]
    },
    {
      "cell_type": "markdown",
      "metadata": {
        "id": "WAzBrv7WCpK2",
        "colab_type": "text"
      },
      "source": [
        "**Distribucion de Poker bajo los mismos parametros:**"
      ]
    },
    {
      "cell_type": "code",
      "metadata": {
        "id": "XkwID-hHC2gA",
        "colab_type": "code",
        "colab": {
          "base_uri": "https://localhost:8080/",
          "height": 176
        },
        "outputId": "213c0bd3-455d-4d13-b83c-0f54c60daf2b"
      },
      "source": [
        "#3a) Media baraja de Poker partida simetricamente\n",
        "cardCounterPOKER3=[]\n",
        "succsessCounterPOKER3=[]\n",
        "jPOKER3 = 0   \n",
        "cPOKER3 = 0 \n",
        "scsPOKER3 = []\n",
        "cardCountPOKER2=0\n",
        "while jPOKER3 <= 100000:\n",
        "  iPOKER3 = 19\n",
        "  nSdeckPOKER3 = [1,2,3,4,5,6,7,8,9,10,11,12,13,1,2,3,4,5,6,7,8,9,10,11,12,13]\n",
        "  handPOKER3 = [7,7,5]\n",
        "  cardCountPOKER3=0\n",
        "  while iPOKER3 < 21:\n",
        "    randPOKER3 = r.randrange(len(nSdeckPOKER3)) # toma un valor aleatorio en el mazo\n",
        "    iPOKER3 += nSdeckPOKER3[randPOKER3]\n",
        "    handPOKER3.append(nSdeckPOKER3[randPOKER3])\n",
        "    nSdeckPOKER3.remove(nSdeckPOKER3[randPOKER3]) # quita la carta de la baraja\n",
        "    cardCountPOKER3+=1\n",
        "  if iPOKER3 == 21:\n",
        "    cPOKER3 +=1\n",
        "    scsPOKER3.append(len(handPOKER3))\n",
        "    cardCounterPOKER3.append(cardCountPOKER3)\n",
        "    succsessCounterPOKER3.append(cPOKER3)\n",
        "  jPOKER3+=1\n",
        "\n",
        "print(\"Cantidad de 21 obtenidos:\" ,cPOKER3)\n",
        "print(\"Probabilidad de obtener 21 en 10000 intentos\",cPOKER3/jPOKER3)\n",
        "\n",
        "dataPOKER3 = pd.DataFrame({'numero de cartas': cardCounterPOKER3, '21 Exitos': succsessCounterPOKER3})\n",
        "dataPOKER3.groupby('numero de cartas').count()"
      ],
      "execution_count": null,
      "outputs": [
        {
          "output_type": "stream",
          "text": [
            "Cantidad de 21 obtenidos: 8005\n",
            "Probabilidad de obtener 21 en 10000 intentos 0.08004919950800492\n"
          ],
          "name": "stdout"
        },
        {
          "output_type": "execute_result",
          "data": {
            "text/html": [
              "<div>\n",
              "<style scoped>\n",
              "    .dataframe tbody tr th:only-of-type {\n",
              "        vertical-align: middle;\n",
              "    }\n",
              "\n",
              "    .dataframe tbody tr th {\n",
              "        vertical-align: top;\n",
              "    }\n",
              "\n",
              "    .dataframe thead th {\n",
              "        text-align: right;\n",
              "    }\n",
              "</style>\n",
              "<table border=\"1\" class=\"dataframe\">\n",
              "  <thead>\n",
              "    <tr style=\"text-align: right;\">\n",
              "      <th></th>\n",
              "      <th>21 Exitos</th>\n",
              "    </tr>\n",
              "    <tr>\n",
              "      <th>numero de cartas</th>\n",
              "      <th></th>\n",
              "    </tr>\n",
              "  </thead>\n",
              "  <tbody>\n",
              "    <tr>\n",
              "      <th>1</th>\n",
              "      <td>7727</td>\n",
              "    </tr>\n",
              "    <tr>\n",
              "      <th>2</th>\n",
              "      <td>278</td>\n",
              "    </tr>\n",
              "  </tbody>\n",
              "</table>\n",
              "</div>"
            ],
            "text/plain": [
              "                  21 Exitos\n",
              "numero de cartas           \n",
              "1                      7727\n",
              "2                       278"
            ]
          },
          "metadata": {
            "tags": []
          },
          "execution_count": 14
        }
      ]
    },
    {
      "cell_type": "code",
      "metadata": {
        "id": "0l2A8yxh6p6E",
        "colab_type": "code",
        "colab": {
          "base_uri": "https://localhost:8080/",
          "height": 856
        },
        "outputId": "526cde50-d31a-4247-b73c-f8b6e7b57eb0"
      },
      "source": [
        "dataPOKER3.groupby('numero de cartas').count().plot()\n",
        "dataPOKER3.groupby('numero de cartas').count().plot.bar()\n",
        "dataPOKER3.hist(bins=5)"
      ],
      "execution_count": null,
      "outputs": [
        {
          "output_type": "execute_result",
          "data": {
            "text/plain": [
              "array([[<matplotlib.axes._subplots.AxesSubplot object at 0x7f325f414470>,\n",
              "        <matplotlib.axes._subplots.AxesSubplot object at 0x7f325f3e39b0>]],\n",
              "      dtype=object)"
            ]
          },
          "metadata": {
            "tags": []
          },
          "execution_count": 15
        },
        {
          "output_type": "display_data",
          "data": {
            "image/png": "[encoded data removed]",
            "text/plain": [
              "<Figure size 432x288 with 1 Axes>"
            ]
          },
          "metadata": {
            "tags": [],
            "needs_background": "light"
          }
        },
        {
          "output_type": "display_data",
          "data": {
            "image/png": "[encoded data removed]",
            "text/plain": [
              "<Figure size 432x288 with 1 Axes>"
            ]
          },
          "metadata": {
            "tags": [],
            "needs_background": "light"
          }
        },
        {
          "output_type": "display_data",
          "data": {
            "image/png": "[encoded data removed]",
            "text/plain": [
              "<Figure size 432x288 with 2 Axes>"
            ]
          },
          "metadata": {
            "tags": [],
            "needs_background": "light"
          }
        }
      ]
    },
    {
      "cell_type": "markdown",
      "metadata": {
        "id": "595Y1tZmDSqO",
        "colab_type": "text"
      },
      "source": [
        "Resulta que sin importar la distribucion de las cartas en la barja las probabilidades convergen a los mismos valores, ya que con base en lo que tenemos en la mano necesitamos solo 2 cartas posibles **Un 2 o Dos 1** asi que la probabilidad de sar estas cartas es la que determina la probabilidad de exito. **Por ende se discrimina el resto de la baraja**"
      ]
    },
    {
      "cell_type": "markdown",
      "metadata": {
        "id": "onCRHdTjm5BF",
        "colab_type": "text"
      },
      "source": [
        "###Punto 4:\n",
        "\n",
        "**E**ncuentre los mazos restantes para los mazos de cartas españolas y de póquer, con el número de cartas de acuerdo con la lista a continuación, con la probabilidad más alta (mazo caliente) y la más baja (mazo frío) de obtener 21 suponiendo que tenga cartas [7,7,5]. \n",
        "\n",
        "**C**alcular las probabilidades analíticamente y verificarlas con Montecarlo. Trace la distribución experimental de los números de tarjeta necesarios para completar 21 en 10000 simulaciones.\n",
        "\n",
        "\n",
        "*   12 cartas restantes\n",
        "*   10 cartas restantes\n",
        "\n",
        "\n"
      ]
    },
    {
      "cell_type": "markdown",
      "metadata": {
        "id": "wMHBGsIKgFYP",
        "colab_type": "text"
      },
      "source": [
        "**Por cuestiones de logica obtener un hot deck y cold deck perfectos es poco probable, en especial un hot deck por lo que usamos una funcion que genera un micro deck mas realista.**"
      ]
    },
    {
      "cell_type": "markdown",
      "metadata": {
        "id": "W20Bh7Wn_o9Q",
        "colab_type": "text"
      },
      "source": [
        "####Decks de Poker"
      ]
    },
    {
      "cell_type": "markdown",
      "metadata": {
        "id": "EYkDr8f1AF0z",
        "colab_type": "text"
      },
      "source": [
        "#####Decks de 10 cartas"
      ]
    },
    {
      "cell_type": "markdown",
      "metadata": {
        "id": "NkhOyZBP8_X0",
        "colab_type": "text"
      },
      "source": [
        "**Analiticamente:** Para el hot deck utilizado para la baraja de poker, la probabilidad de obtener un 21 se basa en la probbabilidad de sacar una carta o combinacion de cartas que sumados den 21, en este mazo en particular tenemos:\n",
        "\n",
        "hotdeck = [2, 2, 9, 2, 11, 7, 1, 4, 10, 1]\n",
        "\n",
        "**S=** Obtener una carta que sumada con la mano de 21.\n",
        "\n",
        "**D=** Probabilidad de obtener un 2 en el hot deck.\n",
        "\n",
        "**U=** Probabilidad de obtener un uno en el hot deck.\n",
        "\n",
        "**U_n=** Probabilidad de obtener un uno en el hot deck despues de haber sacado uno anteriormente.\n",
        "\n",
        "P(S) =P(D)+(P(U)*P(U_n))\n",
        "\n",
        "P(S) = (3/10)+(1/10)*(1/9) = 14/45 Aproximadamente 0.31111... \n",
        "\n"
      ]
    },
    {
      "cell_type": "code",
      "metadata": {
        "id": "PStHhkPAq9gE",
        "colab_type": "code",
        "colab": {
          "base_uri": "https://localhost:8080/",
          "height": 176
        },
        "outputId": "da495486-4f07-4132-9b87-88a4c367c0ad"
      },
      "source": [
        "\n",
        "\n",
        "#hotdeck = [2, 2, 9, 2, 11, 7, 1, 4, 10, 1]\n",
        "\n",
        "#Probabilidades de 21 con un Hot Deck de 10 cartas en baraja de Poker \n",
        "cardCounterPOK410=[]\n",
        "succsessCounterPOK410=[]\n",
        "jPOK410 = 0   \n",
        "cPOK410 = 0 \n",
        "scsPOK410 = []\n",
        "cardCountPOK410=0\n",
        "while jPOK410 <= 10000:\n",
        "  iPOK410 = 19\n",
        "  nSdeckPOK410 = [2, 2, 9, 2, 11, 7, 1, 4, 10, 1]\n",
        "  handPOK410 = [7,7,5]\n",
        "  cardCountPOK410=0\n",
        "  while iPOK410 < 21:\n",
        "    randPOK410 = r.randrange(len(nSdeckPOK410)) \n",
        "    iPOK410 += nSdeckPOK410[randPOK410]\n",
        "    handPOK410.append(nSdeckPOK410[randPOK410])# quita la carta de la baraja\n",
        "    cardCountPOK410+=1\n",
        "  if iPOK410 == 21:\n",
        "    cPOK410 +=1\n",
        "    scsPOK410.append(len(handPOK410))\n",
        "    cardCounterPOK410.append(cardCountPOK410)\n",
        "    succsessCounterPOK410.append(cPOK410)\n",
        "  jPOK410+=1\n",
        "\n",
        "print(\"Cantidad de 21 obtenidos:\" ,cPOK410)\n",
        "print(\"Probabilidad de obtener 21 en 10000 intentos\",cPOK410/jPOK410)\n",
        "dataPOK410 = pd.DataFrame({'numero de cartas': cardCounterPOK410, '21 Exitos': succsessCounterPOK410})\n",
        "dataPOK410.groupby('numero de cartas').count()"
      ],
      "execution_count": null,
      "outputs": [
        {
          "output_type": "stream",
          "text": [
            "Cantidad de 21 obtenidos: 3481\n",
            "Probabilidad de obtener 21 en 10000 intentos 0.34806519348065196\n"
          ],
          "name": "stdout"
        },
        {
          "output_type": "execute_result",
          "data": {
            "text/html": [
              "<div>\n",
              "<style scoped>\n",
              "    .dataframe tbody tr th:only-of-type {\n",
              "        vertical-align: middle;\n",
              "    }\n",
              "\n",
              "    .dataframe tbody tr th {\n",
              "        vertical-align: top;\n",
              "    }\n",
              "\n",
              "    .dataframe thead th {\n",
              "        text-align: right;\n",
              "    }\n",
              "</style>\n",
              "<table border=\"1\" class=\"dataframe\">\n",
              "  <thead>\n",
              "    <tr style=\"text-align: right;\">\n",
              "      <th></th>\n",
              "      <th>21 Exitos</th>\n",
              "    </tr>\n",
              "    <tr>\n",
              "      <th>numero de cartas</th>\n",
              "      <th></th>\n",
              "    </tr>\n",
              "  </thead>\n",
              "  <tbody>\n",
              "    <tr>\n",
              "      <th>1</th>\n",
              "      <td>3075</td>\n",
              "    </tr>\n",
              "    <tr>\n",
              "      <th>2</th>\n",
              "      <td>406</td>\n",
              "    </tr>\n",
              "  </tbody>\n",
              "</table>\n",
              "</div>"
            ],
            "text/plain": [
              "                  21 Exitos\n",
              "numero de cartas           \n",
              "1                      3075\n",
              "2                       406"
            ]
          },
          "metadata": {
            "tags": []
          },
          "execution_count": 16
        }
      ]
    },
    {
      "cell_type": "code",
      "metadata": {
        "id": "bnIV_yZm8gWl",
        "colab_type": "code",
        "colab": {
          "base_uri": "https://localhost:8080/",
          "height": 853
        },
        "outputId": "9890427c-adfd-41c5-cf37-1497c02349ec"
      },
      "source": [
        "dataPOK410.groupby('numero de cartas').count().plot()\n",
        "dataPOK410.groupby('numero de cartas').count().plot.bar()\n",
        "dataPOK410.hist(bins=5)"
      ],
      "execution_count": null,
      "outputs": [
        {
          "output_type": "execute_result",
          "data": {
            "text/plain": [
              "array([[<matplotlib.axes._subplots.AxesSubplot object at 0x7f3260886208>,\n",
              "        <matplotlib.axes._subplots.AxesSubplot object at 0x7f3260651240>]],\n",
              "      dtype=object)"
            ]
          },
          "metadata": {
            "tags": []
          },
          "execution_count": 17
        },
        {
          "output_type": "display_data",
          "data": {
            "image/png": "[encoded data removed]",
            "text/plain": [
              "<Figure size 432x288 with 1 Axes>"
            ]
          },
          "metadata": {
            "tags": [],
            "needs_background": "light"
          }
        },
        {
          "output_type": "display_data",
          "data": {
            "image/png": "[encoded data removed]",
            "text/plain": [
              "<Figure size 432x288 with 1 Axes>"
            ]
          },
          "metadata": {
            "tags": [],
            "needs_background": "light"
          }
        },
        {
          "output_type": "display_data",
          "data": {
            "image/png": "[encoded data removed]",
            "text/plain": [
              "<Figure size 432x288 with 2 Axes>"
            ]
          },
          "metadata": {
            "tags": [],
            "needs_background": "light"
          }
        }
      ]
    },
    {
      "cell_type": "markdown",
      "metadata": {
        "id": "0sZSPNOH-ui_",
        "colab_type": "text"
      },
      "source": [
        "**Analiticamente:** Para el Cold deck utilizado para la baraja de poker, la probabilidad de obtener un 21 se basa en la probbabilidad de sacar una carta o combinacion de cartas que sumados den 21, en este mazo en particular tenemos:\n",
        "\n",
        "colddeck = [13, 8, 10, 6, 9, 2, 5, 3, 10, 1]\n",
        "\n",
        "**S=** Obtener una carta que sumada con la mano de 21.\n",
        "\n",
        "**D=** Probabilidad de obtener un 2 en el hot deck.\n",
        "\n",
        "**U=** Probabilidad de obtener un uno en el hot deck.\n",
        "\n",
        "P(S) =P(D)\n",
        "\n",
        "P(S) = (1/10) Aproximadamente 0.1\n"
      ]
    },
    {
      "cell_type": "code",
      "metadata": {
        "id": "r0Wd5EAi8g57",
        "colab_type": "code",
        "colab": {
          "base_uri": "https://localhost:8080/",
          "height": 145
        },
        "outputId": "414258af-192a-4b58-e0a0-0bdef4191b79"
      },
      "source": [
        "#Probabilidades de 21 con un Cold Deck de 10 en baraja de Poker\n",
        "\n",
        "#colddeck = [13, 8, 10, 6, 9, 2, 5, 3, 10, 1]\n",
        "cardCounterPOK410B=[]\n",
        "succsessCounterPOK410B=[]\n",
        "j = 0   \n",
        "c = 0 \n",
        "scs = []\n",
        "cardCountPOK410B=0\n",
        "while j <= 10000:\n",
        "  i = 19\n",
        "  nSdeck = [13, 8, 10, 6, 9, 2, 5, 3, 10, 1] \n",
        "  hand = [7,7,5]\n",
        "  cardCountPOK410B=0\n",
        "  while i < 21:\n",
        "    rand = r.randrange(len(nSdeck)) \n",
        "    i += nSdeck[rand]\n",
        "    hand.append(nSdeck[rand])\n",
        "    nSdeck.remove(nSdeck[rand]) \n",
        "    cardCountPOK410B+=1\n",
        "  if i == 21:\n",
        "    c +=1\n",
        "    scs.append(len(hand))\n",
        "\n",
        "    cardCounterPOK410B.append(cardCountPOK410B)\n",
        "    succsessCounterPOK410B.append(c)\n",
        "    \n",
        "  j+=1\n",
        "\n",
        "print(\"Cantidad de 21 obtenidos:\" ,c)\n",
        "print(\"Probabilidad de obtener 21 en 10000 intentos\",c/j)\n",
        "\n",
        "\n",
        "dataPOK410B = pd.DataFrame({'numero de cartas': cardCountPOK410B, '21 Exitos': succsessCounterPOK410B})\n",
        "dataPOK410B.groupby('numero de cartas').count()"
      ],
      "execution_count": null,
      "outputs": [
        {
          "output_type": "stream",
          "text": [
            "Cantidad de 21 obtenidos: 1042\n",
            "Probabilidad de obtener 21 en 10000 intentos 0.10418958104189581\n"
          ],
          "name": "stdout"
        },
        {
          "output_type": "execute_result",
          "data": {
            "text/html": [
              "<div>\n",
              "<style scoped>\n",
              "    .dataframe tbody tr th:only-of-type {\n",
              "        vertical-align: middle;\n",
              "    }\n",
              "\n",
              "    .dataframe tbody tr th {\n",
              "        vertical-align: top;\n",
              "    }\n",
              "\n",
              "    .dataframe thead th {\n",
              "        text-align: right;\n",
              "    }\n",
              "</style>\n",
              "<table border=\"1\" class=\"dataframe\">\n",
              "  <thead>\n",
              "    <tr style=\"text-align: right;\">\n",
              "      <th></th>\n",
              "      <th>21 Exitos</th>\n",
              "    </tr>\n",
              "    <tr>\n",
              "      <th>numero de cartas</th>\n",
              "      <th></th>\n",
              "    </tr>\n",
              "  </thead>\n",
              "  <tbody>\n",
              "    <tr>\n",
              "      <th>1</th>\n",
              "      <td>1042</td>\n",
              "    </tr>\n",
              "  </tbody>\n",
              "</table>\n",
              "</div>"
            ],
            "text/plain": [
              "                  21 Exitos\n",
              "numero de cartas           \n",
              "1                      1042"
            ]
          },
          "metadata": {
            "tags": []
          },
          "execution_count": 18
        }
      ]
    },
    {
      "cell_type": "code",
      "metadata": {
        "id": "08kjoGgv9rE4",
        "colab_type": "code",
        "colab": {
          "base_uri": "https://localhost:8080/",
          "height": 872
        },
        "outputId": "2fe9c974-469b-4378-af74-e91b9c1c865b"
      },
      "source": [
        "dataPOK410B.groupby('21 Exitos').count().plot()\n",
        "dataPOK410B.groupby('21 Exitos').count().plot.bar()\n",
        "dataPOK410B.hist(bins=5)"
      ],
      "execution_count": null,
      "outputs": [
        {
          "output_type": "execute_result",
          "data": {
            "text/plain": [
              "array([[<matplotlib.axes._subplots.AxesSubplot object at 0x7f325f67d128>,\n",
              "        <matplotlib.axes._subplots.AxesSubplot object at 0x7f325f6b2128>]],\n",
              "      dtype=object)"
            ]
          },
          "metadata": {
            "tags": []
          },
          "execution_count": 19
        },
        {
          "output_type": "display_data",
          "data": {
            "image/png": "[encoded data removed]",
            "text/plain": [
              "<Figure size 432x288 with 1 Axes>"
            ]
          },
          "metadata": {
            "tags": [],
            "needs_background": "light"
          }
        },
        {
          "output_type": "display_data",
          "data": {
            "image/png": "[encoded data removed]",
            "text/plain": [
              "<Figure size 432x288 with 1 Axes>"
            ]
          },
          "metadata": {
            "tags": [],
            "needs_background": "light"
          }
        },
        {
          "output_type": "display_data",
          "data": {
            "image/png": "[encoded data removed]",
            "text/plain": [
              "<Figure size 432x288 with 2 Axes>"
            ]
          },
          "metadata": {
            "tags": [],
            "needs_background": "light"
          }
        }
      ]
    },
    {
      "cell_type": "markdown",
      "metadata": {
        "id": "Fz2E0JtRCsux",
        "colab_type": "text"
      },
      "source": [
        "####Decks de Baraja Española\n"
      ]
    },
    {
      "cell_type": "markdown",
      "metadata": {
        "id": "u4h8ATABDAGn",
        "colab_type": "text"
      },
      "source": [
        "#####Decks de 10 Cartas"
      ]
    },
    {
      "cell_type": "markdown",
      "metadata": {
        "id": "11kEtFg8EByF",
        "colab_type": "text"
      },
      "source": [
        "**Analiticamente:** Para el hot deck utilizado para la baraja española, la probabilidad de obtener un 21 se basa en la probbabilidad de sacar una carta o combinacion de cartas que sumados den 21, en este mazo en particular tenemos:\n",
        "\n",
        "hotdeck = [3, 5, 2, 2, 1, 2, 1, 2, 10, 12]\n",
        "\n",
        "**S=** Obtener una carta que sumada con la mano de 21.\n",
        "\n",
        "**D=** Probabilidad de obtener un 2 en el hot deck.\n",
        "\n",
        "**U=** Probabilidad de obtener un uno en el hot deck.\n",
        "\n",
        "**U_n=** Probabilidad de obtener un uno en el hot deck despues de haber sacado uno anteriormente.\n",
        "\n",
        "P(S) =P(D)+(P(U)*P(U_n))\n",
        "\n",
        "P(S) = (4/10)+(1/10)*(1/9) = 37/90 Aproximadamente 0.41111.."
      ]
    },
    {
      "cell_type": "code",
      "metadata": {
        "id": "dMJ_XYvzE5Mz",
        "colab_type": "code",
        "colab": {
          "base_uri": "https://localhost:8080/",
          "height": 176
        },
        "outputId": "1048ec1b-1fb4-4337-aab9-0258fce6e7ea"
      },
      "source": [
        "#hotdeck =  [3, 5, 2, 2, 1, 2, 1, 2, 10, 12]\n",
        "\n",
        "#Probabilidades de 21 con un Hot Deck de 10 cartas en baraja de Española\n",
        "cardCounterESP410=[]\n",
        "succsessCounterESP410=[]\n",
        "j=0\n",
        "c = 0 \n",
        "scs = []\n",
        "cardCountESP410=0\n",
        "while j <= 10000:\n",
        "  i = 19\n",
        "  nSdeck =  [3, 5, 2, 2, 1, 2, 1, 2, 10, 12]\n",
        "  hand = [7,7,5]\n",
        "  cardCountESP410=0\n",
        "  while i < 21:\n",
        "    rand = r.randrange(len(nSdeck)) \n",
        "    i += nSdeck[rand]\n",
        "    hand.append(nSdeck[rand])\n",
        "    nSdeck.remove(nSdeck[rand]) \n",
        "    cardCountESP410+=1\n",
        "    if i == 21:\n",
        "     c+=1\n",
        "     scs.append(len(hand))\n",
        "     cardCounterESP410.append(cardCountESP410)\n",
        "     succsessCounterESP410.append(c)\n",
        "  j+=1\n",
        "\n",
        "print(\"Cantidad de 21 obtenidos:\" ,c)\n",
        "print(\"Probabilidad de obtener 21 en 10000 intentos\",c/j)\n",
        "dataESP410 = pd.DataFrame({'numero de cartas': cardCounterESP410, '21 Exitos': succsessCounterESP410})\n",
        "dataESP410.groupby('numero de cartas').count()"
      ],
      "execution_count": null,
      "outputs": [
        {
          "output_type": "stream",
          "text": [
            "Cantidad de 21 obtenidos: 4207\n",
            "Probabilidad de obtener 21 en 10000 intentos 0.4206579342065793\n"
          ],
          "name": "stdout"
        },
        {
          "output_type": "execute_result",
          "data": {
            "text/html": [
              "<div>\n",
              "<style scoped>\n",
              "    .dataframe tbody tr th:only-of-type {\n",
              "        vertical-align: middle;\n",
              "    }\n",
              "\n",
              "    .dataframe tbody tr th {\n",
              "        vertical-align: top;\n",
              "    }\n",
              "\n",
              "    .dataframe thead th {\n",
              "        text-align: right;\n",
              "    }\n",
              "</style>\n",
              "<table border=\"1\" class=\"dataframe\">\n",
              "  <thead>\n",
              "    <tr style=\"text-align: right;\">\n",
              "      <th></th>\n",
              "      <th>21 Exitos</th>\n",
              "    </tr>\n",
              "    <tr>\n",
              "      <th>numero de cartas</th>\n",
              "      <th></th>\n",
              "    </tr>\n",
              "  </thead>\n",
              "  <tbody>\n",
              "    <tr>\n",
              "      <th>1</th>\n",
              "      <td>4024</td>\n",
              "    </tr>\n",
              "    <tr>\n",
              "      <th>2</th>\n",
              "      <td>183</td>\n",
              "    </tr>\n",
              "  </tbody>\n",
              "</table>\n",
              "</div>"
            ],
            "text/plain": [
              "                  21 Exitos\n",
              "numero de cartas           \n",
              "1                      4024\n",
              "2                       183"
            ]
          },
          "metadata": {
            "tags": []
          },
          "execution_count": 20
        }
      ]
    },
    {
      "cell_type": "code",
      "metadata": {
        "id": "PJYTEFOaGS0h",
        "colab_type": "code",
        "colab": {
          "base_uri": "https://localhost:8080/",
          "height": 853
        },
        "outputId": "f36c3e11-dfe3-4ace-ea5f-d69ff72ae4b5"
      },
      "source": [
        "dataESP410.groupby('numero de cartas').count().plot()\n",
        "dataESP410.groupby('numero de cartas').count().plot.bar()\n",
        "dataESP410.hist(bins=5)"
      ],
      "execution_count": null,
      "outputs": [
        {
          "output_type": "execute_result",
          "data": {
            "text/plain": [
              "array([[<matplotlib.axes._subplots.AxesSubplot object at 0x7f325f305358>,\n",
              "        <matplotlib.axes._subplots.AxesSubplot object at 0x7f325f2c8e80>]],\n",
              "      dtype=object)"
            ]
          },
          "metadata": {
            "tags": []
          },
          "execution_count": 21
        },
        {
          "output_type": "display_data",
          "data": {
            "image/png": "[encoded data removed]",
            "text/plain": [
              "<Figure size 432x288 with 1 Axes>"
            ]
          },
          "metadata": {
            "tags": [],
            "needs_background": "light"
          }
        },
        {
          "output_type": "display_data",
          "data": {
            "image/png": "[encoded data removed]",
            "text/plain": [
              "<Figure size 432x288 with 1 Axes>"
            ]
          },
          "metadata": {
            "tags": [],
            "needs_background": "light"
          }
        },
        {
          "output_type": "display_data",
          "data": {
            "image/png": "[encoded data removed]",
            "text/plain": [
              "<Figure size 432x288 with 2 Axes>"
            ]
          },
          "metadata": {
            "tags": [],
            "needs_background": "light"
          }
        }
      ]
    },
    {
      "cell_type": "markdown",
      "metadata": {
        "id": "JMGxV1svFEFv",
        "colab_type": "text"
      },
      "source": [
        "**Analiticamente:** Para el Cold deck utilizado para la baraja española, la probabilidad de obtener un 21 se basa en la probbabilidad de sacar una carta o combinacion de cartas que sumados den 21, en este mazo en particular tenemos:\n",
        "\n",
        "colddeck = [12, 5, 11, 7, 6, 2, 2, 4, 7, 8]\n",
        "\n",
        "**S=** Obtener una carta que sumada con la mano de 21.\n",
        "\n",
        "**D=** Probabilidad de obtener un 2 en el hot deck.\n",
        "\n",
        "**U=** Probabilidad de obtener un uno en el hot deck.\n",
        "\n",
        "P(S) =P(D)\n",
        "\n",
        "P(S) = (2/10) Aproximadamente 0.2\n"
      ]
    },
    {
      "cell_type": "code",
      "metadata": {
        "id": "cixC41bIF9Gq",
        "colab_type": "code",
        "colab": {
          "base_uri": "https://localhost:8080/",
          "height": 145
        },
        "outputId": "730aa4d8-5d51-4770-b146-4d52b37af82e"
      },
      "source": [
        "#Probabilidades de 21 con un Cold Deck de 10 en baraja española\n",
        "\n",
        "#colddeck = [12, 5, 11, 7, 6, 2, 2, 4, 7, 8]\n",
        "cardCounterESP410B=[]\n",
        "succsessCounterESP410B=[]\n",
        "j = 0   \n",
        "c = 0 \n",
        "scs = []\n",
        "cardCountESP410B=0\n",
        "while j <= 10000:\n",
        "  i = 19\n",
        "  nSdeck = [12, 5, 11, 7, 6, 2, 2, 4, 7, 8]\n",
        "  hand = [7,7,5]\n",
        "  cardCountESP410B=0\n",
        "  while i < 21:\n",
        "    rand = r.randrange(len(nSdeck)) \n",
        "    i += nSdeck[rand]\n",
        "    hand.append(nSdeck[rand])\n",
        "    nSdeck.remove(nSdeck[rand]) \n",
        "    cardCountESP410B+=1\n",
        "  if i == 21:\n",
        "    c +=1\n",
        "    scs.append(len(hand))\n",
        "    \n",
        "    cardCounterESP410B.append(cardCountESP410B)\n",
        "    succsessCounterESP410B.append(c)\n",
        "  j+=1\n",
        "\n",
        "print(\"Cantidad de 21 obtenidos:\" ,c)\n",
        "print(\"Probabilidad de obtener 21 en 10000 intentos\",c/j)\n",
        "dataESP410B = pd.DataFrame({'numero de cartas': cardCounterESP410B, '21 Exitos': succsessCounterESP410B})\n",
        "dataESP410B.groupby('numero de cartas').count()"
      ],
      "execution_count": null,
      "outputs": [
        {
          "output_type": "stream",
          "text": [
            "Cantidad de 21 obtenidos: 1964\n",
            "Probabilidad de obtener 21 en 10000 intentos 0.19638036196380362\n"
          ],
          "name": "stdout"
        },
        {
          "output_type": "execute_result",
          "data": {
            "text/html": [
              "<div>\n",
              "<style scoped>\n",
              "    .dataframe tbody tr th:only-of-type {\n",
              "        vertical-align: middle;\n",
              "    }\n",
              "\n",
              "    .dataframe tbody tr th {\n",
              "        vertical-align: top;\n",
              "    }\n",
              "\n",
              "    .dataframe thead th {\n",
              "        text-align: right;\n",
              "    }\n",
              "</style>\n",
              "<table border=\"1\" class=\"dataframe\">\n",
              "  <thead>\n",
              "    <tr style=\"text-align: right;\">\n",
              "      <th></th>\n",
              "      <th>21 Exitos</th>\n",
              "    </tr>\n",
              "    <tr>\n",
              "      <th>numero de cartas</th>\n",
              "      <th></th>\n",
              "    </tr>\n",
              "  </thead>\n",
              "  <tbody>\n",
              "    <tr>\n",
              "      <th>1</th>\n",
              "      <td>1964</td>\n",
              "    </tr>\n",
              "  </tbody>\n",
              "</table>\n",
              "</div>"
            ],
            "text/plain": [
              "                  21 Exitos\n",
              "numero de cartas           \n",
              "1                      1964"
            ]
          },
          "metadata": {
            "tags": []
          },
          "execution_count": 22
        }
      ]
    },
    {
      "cell_type": "code",
      "metadata": {
        "id": "E6Qctx6_Jd0_",
        "colab_type": "code",
        "colab": {
          "base_uri": "https://localhost:8080/",
          "height": 853
        },
        "outputId": "a45b717e-25a1-4923-c973-ac3bb3e09978"
      },
      "source": [
        "dataESP410B.groupby('numero de cartas').count().plot()\n",
        "dataESP410B.groupby('numero de cartas').count().plot.bar()\n",
        "dataESP410B.hist(bins=5)"
      ],
      "execution_count": null,
      "outputs": [
        {
          "output_type": "execute_result",
          "data": {
            "text/plain": [
              "array([[<matplotlib.axes._subplots.AxesSubplot object at 0x7f325eef6128>,\n",
              "        <matplotlib.axes._subplots.AxesSubplot object at 0x7f325eea7a58>]],\n",
              "      dtype=object)"
            ]
          },
          "metadata": {
            "tags": []
          },
          "execution_count": 23
        },
        {
          "output_type": "display_data",
          "data": {
            "image/png": "[encoded data removed]",
            "text/plain": [
              "<Figure size 432x288 with 1 Axes>"
            ]
          },
          "metadata": {
            "tags": [],
            "needs_background": "light"
          }
        },
        {
          "output_type": "display_data",
          "data": {
            "image/png": "[encoded data removed]",
            "text/plain": [
              "<Figure size 432x288 with 1 Axes>"
            ]
          },
          "metadata": {
            "tags": [],
            "needs_background": "light"
          }
        },
        {
          "output_type": "display_data",
          "data": {
            "image/png": "[encoded data removed]",
            "text/plain": [
              "<Figure size 432x288 with 2 Axes>"
            ]
          },
          "metadata": {
            "tags": [],
            "needs_background": "light"
          }
        }
      ]
    },
    {
      "cell_type": "markdown",
      "metadata": {
        "id": "9g7JKnv0T-1M",
        "colab_type": "text"
      },
      "source": [
        "###Punto 5:\n",
        "\n",
        "Si Ben va a Las Vegas todos los fines de semana (viernes, sábado y domingo), juega cada día de fin de semana 10 horas, cada juego dura 3 minutos. \n",
        "\n",
        "Obtiene las cartas [7,7,5] y una hot deck restante con probabilidad de 1/10, las cartas del hot deck son las obtenidas en el punto 4 del ejercicio anterior. \n",
        "\n",
        "Suponga que para los cold deck Ben no tiene cartas y el mazo restante esta completo. \n",
        "\n",
        "Él apuesta **$ 1000** en mazos calientes y  **10** en mazos fríos. \n",
        "\n",
        "¿Cuál es la cantidad estimada de dinero que Ben gana o pierde en un fin de semana estimado con 10 millones de simulaciones usando los mazos de cartas español y de póquer? \n",
        "\n",
        "Trace la distribución experimental de los números de tarjeta necesarios para completar 21 en 10000 simulaciones."
      ]
    },
    {
      "cell_type": "code",
      "metadata": {
        "id": "7nzI4nvwUpQw",
        "colab_type": "code",
        "colab": {}
      },
      "source": [
        "#hotdeck = [3, 5, 2, 12, 10, 8, 6, 6, 10, 12] Español con probabilidad 1/10\n",
        "#hotdeck = [2, 8, 9, 3, 11, 7, 13, 4, 10, 5] Poker con probabilidad 1/10"
      ],
      "execution_count": null,
      "outputs": []
    },
    {
      "cell_type": "markdown",
      "metadata": {
        "id": "wkAUNlTWwkWy",
        "colab_type": "text"
      },
      "source": [
        "#####Deck de cartas españolas"
      ]
    },
    {
      "cell_type": "code",
      "metadata": {
        "id": "u6buGCFhVT2D",
        "colab_type": "code",
        "colab": {
          "base_uri": "https://localhost:8080/",
          "height": 205
        },
        "outputId": "e90b0004-cf00-4eca-fbcc-23c23dd68d7f"
      },
      "source": [
        "\n",
        "#hotdeck = [2, 2, 9, 2, 11, 7, 1, 4, 10, 1]\n",
        "cardCounterESP5H=[]\n",
        "succsessCounterESP5H=[]\n",
        "cardCountESP5H=0\n",
        "cardCounterESP5C=[]\n",
        "succsessCounterESP5C=[]\n",
        "cardCountESP5C=0\n",
        "def hoc():                  #escoger el mazo es al azar por tanto se escoge con una funcion aleatoria\n",
        "  n = r.randrange(0,2)\n",
        "  return n\n",
        "\n",
        "\n",
        "jc ,cc,ch,jh ,games ,earned = 0,0,0,0,0,0\n",
        "scs_c,hand_c,scs_h,hand_h = [],[],[],[]\n",
        "\n",
        "while games <= 10000:\n",
        "  azar = hoc()\n",
        "  if azar == 1:             #si el valor de azar es 1 se usa el hotdeck\n",
        "    while jh <= 10000:\n",
        "      i = 19\n",
        "      nSdeck = [2, 5, 7, 12, 10, 6, 3, 4, 6, 3]\n",
        "      hand_h= [7,7,5]\n",
        "      bet = 1000\n",
        "      earned = earned-1000\n",
        "      cardCountESP5H=0\n",
        "      while i < 21:\n",
        "        rand = r.randrange(len(nSdeck)) \n",
        "        i += nSdeck[rand]\n",
        "        hand_h.append(nSdeck[rand])\n",
        "        nSdeck.remove(nSdeck[rand])\n",
        "        cardCountESP5H+=1\n",
        "        if i == 21:\n",
        "          ch +=1\n",
        "          earned = earned + bet\n",
        "          scs_h.append(len(hand_h))\n",
        "          cardCounterESP5H.append(cardCountESP5H)\n",
        "          succsessCounterESP5H.append(ch)\n",
        "        earned -= bet\n",
        "        jh+=1    \n",
        "  else:                        #en otros casos se usa el coldeck\n",
        "    while jc <= 10000:\n",
        "      i = 0\n",
        "      nSdeck = [1,2,3,4,5,6,7,8,9,10,11,12,1,2,3,4,5,6,7,8,9,10,11,12,1,2,3,4,5,6,7,8,9,10,11,12,1,2,3,4,5,6,7,8,9,10,11,12]\n",
        "      hand_c= []\n",
        "      bet = 10\n",
        "      earned = earned-10\n",
        "      cardCountESP5C=0\n",
        "      while i < 21:\n",
        "        rand = r.randrange(len(nSdeck)) \n",
        "        i += nSdeck[rand]\n",
        "        hand_c.append(nSdeck[rand])\n",
        "        nSdeck.remove(nSdeck[rand])\n",
        "        cardCountESP5C+=1\n",
        "        if i == 21:\n",
        "          cc +=1\n",
        "          earned = earned + bet\n",
        "          scs_c.append(len(hand_c))\n",
        "          cardCounterESP5C.append(cardCountESP5C)\n",
        "          succsessCounterESP5C.append(cc)\n",
        "        earned -= bet\n",
        "        jc+=1\n",
        "  games +=1        \n",
        "\n",
        "print(\"Cantidad de 21 obtenidos(hot):\" ,ch)\n",
        "print(\"Probabilidad de obtener 21 en 10000 intentos\",ch/jh)\n",
        "\n",
        "print(\"Cantidad de 21 obtenidos(cold):\" ,cc)\n",
        "print(\"Probabilidad de obtener 21 en 10000 intentos\",cc/jc)\n",
        "\n",
        "print(\"Ganancias o perdidas de Ben\",earned)\n",
        "\n",
        "dataESP5H = pd.DataFrame({'numero de cartas HOT': cardCounterESP5H, '21 Exitos HOT': succsessCounterESP5H})\n",
        "dataESP5H.groupby('numero de cartas HOT').count()\n"
      ],
      "execution_count": 11,
      "outputs": [
        {
          "output_type": "stream",
          "text": [
            "Cantidad de 21 obtenidos(hot): 984\n",
            "Probabilidad de obtener 21 en 10000 intentos 0.0983901609839016\n",
            "Cantidad de 21 obtenidos(cold): 451\n",
            "Probabilidad de obtener 21 en 10000 intentos 0.04508647405778266\n",
            "Ganancias o perdidas de Ben -19139690\n"
          ],
          "name": "stdout"
        },
        {
          "output_type": "execute_result",
          "data": {
            "text/html": [
              "<div>\n",
              "<style scoped>\n",
              "    .dataframe tbody tr th:only-of-type {\n",
              "        vertical-align: middle;\n",
              "    }\n",
              "\n",
              "    .dataframe tbody tr th {\n",
              "        vertical-align: top;\n",
              "    }\n",
              "\n",
              "    .dataframe thead th {\n",
              "        text-align: right;\n",
              "    }\n",
              "</style>\n",
              "<table border=\"1\" class=\"dataframe\">\n",
              "  <thead>\n",
              "    <tr style=\"text-align: right;\">\n",
              "      <th></th>\n",
              "      <th>21 Exitos HOT</th>\n",
              "    </tr>\n",
              "    <tr>\n",
              "      <th>numero de cartas HOT</th>\n",
              "      <th></th>\n",
              "    </tr>\n",
              "  </thead>\n",
              "  <tbody>\n",
              "    <tr>\n",
              "      <th>1</th>\n",
              "      <td>984</td>\n",
              "    </tr>\n",
              "  </tbody>\n",
              "</table>\n",
              "</div>"
            ],
            "text/plain": [
              "                      21 Exitos HOT\n",
              "numero de cartas HOT               \n",
              "1                               984"
            ]
          },
          "metadata": {
            "tags": []
          },
          "execution_count": 11
        }
      ]
    },
    {
      "cell_type": "code",
      "metadata": {
        "id": "gK7s0gQyOEsh",
        "colab_type": "code",
        "colab": {
          "base_uri": "https://localhost:8080/",
          "height": 862
        },
        "outputId": "81037482-de10-450c-df05-82a32a66f6f3"
      },
      "source": [
        "dataESP5H.groupby('numero de cartas HOT').count().plot(ylim=(0,2))\n",
        "dataESP5H.groupby('numero de cartas HOT').count().plot.bar()\n",
        "dataESP5H.hist(bins=5)\n"
      ],
      "execution_count": 21,
      "outputs": [
        {
          "output_type": "execute_result",
          "data": {
            "text/plain": [
              "array([[<matplotlib.axes._subplots.AxesSubplot object at 0x7f438ad72198>,\n",
              "        <matplotlib.axes._subplots.AxesSubplot object at 0x7f438ad19e80>]],\n",
              "      dtype=object)"
            ]
          },
          "metadata": {
            "tags": []
          },
          "execution_count": 21
        },
        {
          "output_type": "display_data",
          "data": {
            "image/png": "[encoded data removed]",
            "text/plain": [
              "<Figure size 432x288 with 1 Axes>"
            ]
          },
          "metadata": {
            "tags": [],
            "needs_background": "light"
          }
        },
        {
          "output_type": "display_data",
          "data": {
            "image/png": "[encoded data removed]",
            "text/plain": [
              "<Figure size 432x288 with 1 Axes>"
            ]
          },
          "metadata": {
            "tags": [],
            "needs_background": "light"
          }
        },
        {
          "output_type": "display_data",
          "data": {
            "image/png": "[encoded data removed]",
            "text/plain": [
              "<Figure size 432x288 with 2 Axes>"
            ]
          },
          "metadata": {
            "tags": [],
            "needs_background": "light"
          }
        }
      ]
    },
    {
      "cell_type": "code",
      "metadata": {
        "id": "2sBHe973OgQf",
        "colab_type": "code",
        "colab": {
          "base_uri": "https://localhost:8080/",
          "height": 269
        },
        "outputId": "bb75607d-2931-4eec-b927-82a597767598"
      },
      "source": [
        "dataESP5C = pd.DataFrame({'numero de cartas COLD': cardCounterESP5C, '21 Exitos COLD': succsessCounterESP5C})\n",
        "dataESP5C.groupby('numero de cartas COLD').count()"
      ],
      "execution_count": 13,
      "outputs": [
        {
          "output_type": "execute_result",
          "data": {
            "text/html": [
              "<div>\n",
              "<style scoped>\n",
              "    .dataframe tbody tr th:only-of-type {\n",
              "        vertical-align: middle;\n",
              "    }\n",
              "\n",
              "    .dataframe tbody tr th {\n",
              "        vertical-align: top;\n",
              "    }\n",
              "\n",
              "    .dataframe thead th {\n",
              "        text-align: right;\n",
              "    }\n",
              "</style>\n",
              "<table border=\"1\" class=\"dataframe\">\n",
              "  <thead>\n",
              "    <tr style=\"text-align: right;\">\n",
              "      <th></th>\n",
              "      <th>21 Exitos COLD</th>\n",
              "    </tr>\n",
              "    <tr>\n",
              "      <th>numero de cartas COLD</th>\n",
              "      <th></th>\n",
              "    </tr>\n",
              "  </thead>\n",
              "  <tbody>\n",
              "    <tr>\n",
              "      <th>2</th>\n",
              "      <td>69</td>\n",
              "    </tr>\n",
              "    <tr>\n",
              "      <th>3</th>\n",
              "      <td>167</td>\n",
              "    </tr>\n",
              "    <tr>\n",
              "      <th>4</th>\n",
              "      <td>150</td>\n",
              "    </tr>\n",
              "    <tr>\n",
              "      <th>5</th>\n",
              "      <td>50</td>\n",
              "    </tr>\n",
              "    <tr>\n",
              "      <th>6</th>\n",
              "      <td>14</td>\n",
              "    </tr>\n",
              "    <tr>\n",
              "      <th>7</th>\n",
              "      <td>1</td>\n",
              "    </tr>\n",
              "  </tbody>\n",
              "</table>\n",
              "</div>"
            ],
            "text/plain": [
              "                       21 Exitos COLD\n",
              "numero de cartas COLD                \n",
              "2                                  69\n",
              "3                                 167\n",
              "4                                 150\n",
              "5                                  50\n",
              "6                                  14\n",
              "7                                   1"
            ]
          },
          "metadata": {
            "tags": []
          },
          "execution_count": 13
        }
      ]
    },
    {
      "cell_type": "code",
      "metadata": {
        "id": "467s5RI6OriZ",
        "colab_type": "code",
        "colab": {
          "base_uri": "https://localhost:8080/",
          "height": 862
        },
        "outputId": "0c8e5c04-a071-4512-bd4a-0a1b0196e04d"
      },
      "source": [
        "dataESP5C.groupby('numero de cartas COLD').count().plot()\n",
        "dataESP5C.groupby('numero de cartas COLD').count().plot.bar()\n",
        "dataESP5C.hist(bins=5)"
      ],
      "execution_count": 14,
      "outputs": [
        {
          "output_type": "execute_result",
          "data": {
            "text/plain": [
              "array([[<matplotlib.axes._subplots.AxesSubplot object at 0x7f438b02e3c8>,\n",
              "        <matplotlib.axes._subplots.AxesSubplot object at 0x7f438afde4a8>]],\n",
              "      dtype=object)"
            ]
          },
          "metadata": {
            "tags": []
          },
          "execution_count": 14
        },
        {
          "output_type": "display_data",
          "data": {
            "image/png": "[encoded data removed]",
            "text/plain": [
              "<Figure size 432x288 with 1 Axes>"
            ]
          },
          "metadata": {
            "tags": [],
            "needs_background": "light"
          }
        },
        {
          "output_type": "display_data",
          "data": {
            "image/png": "[encoded data removed]",
            "text/plain": [
              "<Figure size 432x288 with 1 Axes>"
            ]
          },
          "metadata": {
            "tags": [],
            "needs_background": "light"
          }
        },
        {
          "output_type": "display_data",
          "data": {
            "image/png": "[encoded data removed]",
            "text/plain": [
              "<Figure size 432x288 with 2 Axes>"
            ]
          },
          "metadata": {
            "tags": [],
            "needs_background": "light"
          }
        }
      ]
    },
    {
      "cell_type": "markdown",
      "metadata": {
        "id": "ey64ovGmxPBv",
        "colab_type": "text"
      },
      "source": [
        "#####Deck de cartas de Poker"
      ]
    },
    {
      "cell_type": "code",
      "metadata": {
        "id": "Jj6nWASCxSef",
        "colab_type": "code",
        "colab": {
          "base_uri": "https://localhost:8080/",
          "height": 205
        },
        "outputId": "12126f00-eafb-43e5-f96b-b13f52fee22d"
      },
      "source": [
        "#hotdeck de poker [2, 8, 9, 3, 11, 7, 13, 4, 10, 5]\n",
        "import random as r\n",
        "#hotdeck = [2, 8, 9, 3, 11, 7, 13, 4, 10, 5]\n",
        "cardCounterPOKH=[]\n",
        "succsessCounterPOKH=[]\n",
        "cardCountPOKH=0\n",
        "cardCounterPOKC=[]\n",
        "succsessCounterPOKC=[]\n",
        "cardCountPOKC=0\n",
        "def hoc():\n",
        "  n = r.randrange(0,2)\n",
        "  return n\n",
        "\n",
        "\n",
        "\n",
        "jc ,cc,ch,jh ,games ,earned = 0,0,0,0,0,0\n",
        "scs_c,hand_c,scs_h,hand_h = [],[],[],[]\n",
        "\n",
        "while games <= 10000:\n",
        "  azar = hoc()\n",
        "  if azar == 1:\n",
        "    while jh <= 10000:\n",
        "      i = 19\n",
        "      nSdeck = [2, 8, 9, 3, 11, 7, 13, 4, 10, 5]\n",
        "      hand_h= [7,7,5]\n",
        "      bet = 1000\n",
        "      #earned = earned-1000\n",
        "      cardCountPOKH=0\n",
        "      while i < 21:\n",
        "        rand = r.randrange(len(nSdeck)) \n",
        "        i += nSdeck[rand]\n",
        "        hand_h.append(nSdeck[rand])\n",
        "        nSdeck.remove(nSdeck[rand])\n",
        "        cardCountPOKH+=1\n",
        "        if i == 21:\n",
        "          ch +=1\n",
        "          earned += 2*bet\n",
        "          scs_h.append(len(hand_h))\n",
        "          cardCounterPOKH.append(cardCountPOKH)\n",
        "          succsessCounterPOKH.append(ch)\n",
        "        earned -= bet\n",
        "        jh+=1    \n",
        "  else:\n",
        "    while jc <= 10000:\n",
        "      i = 0\n",
        "      nSdeck = [1,2,3,4,5,6,7,8,9,10,11,12,1,2,3,4,5,6,7,8,9,10,11,12,1,2,3,4,5,6,7,8,9,10,11,12,1,2,3,4,5,6,7,8,9,10,11,12]\n",
        "      hand_c= []\n",
        "      bet = 10\n",
        "      #earned = earned-10\n",
        "      cardCountPOKC=0\n",
        "      while i < 21:\n",
        "        rand = r.randrange(len(nSdeck)) \n",
        "        i += nSdeck[rand]\n",
        "        hand_c.append(nSdeck[rand])\n",
        "        nSdeck.remove(nSdeck[rand])\n",
        "        cardCountPOKC+=1\n",
        "        if i == 21:\n",
        "          cc +=1\n",
        "          earned += 2*bet\n",
        "          scs_c.append(len(hand_c))\n",
        "          cardCounterPOKC.append(cardCountPOKC)\n",
        "          succsessCounterPOKC.append(cc)\n",
        "        earned -= bet\n",
        "        jc+=1\n",
        "  games +=1        \n",
        "\n",
        "print(\"Cantidad de 21 obtenidos(hot):\" ,ch)\n",
        "print(\"Probabilidad de obtener 21 en 10000 intentos\",ch/jh)\n",
        "\n",
        "print(\"Cantidad de 21 obtenidos(cold):\" ,cc)\n",
        "print(\"Probabilidad de obtener 21 en 10000 intentos\",cc/jc)\n",
        "\n",
        "print(\"Ganancias o perdidas de Ben\",earned)\n",
        "\n",
        "dataPOKH = pd.DataFrame({'numero de cartas HOT': cardCounterPOKH, '21 Exitos HOT': succsessCounterPOKH})\n",
        "dataPOKH.groupby('numero de cartas HOT').count()"
      ],
      "execution_count": 6,
      "outputs": [
        {
          "output_type": "stream",
          "text": [
            "Cantidad de 21 obtenidos(hot): 1003\n",
            "Probabilidad de obtener 21 en 10000 intentos 0.10028997100289971\n",
            "Cantidad de 21 obtenidos(cold): 437\n",
            "Probabilidad de obtener 21 en 10000 intentos 0.043682526989204315\n",
            "Ganancias o perdidas de Ben -8086300\n"
          ],
          "name": "stdout"
        },
        {
          "output_type": "execute_result",
          "data": {
            "text/html": [
              "<div>\n",
              "<style scoped>\n",
              "    .dataframe tbody tr th:only-of-type {\n",
              "        vertical-align: middle;\n",
              "    }\n",
              "\n",
              "    .dataframe tbody tr th {\n",
              "        vertical-align: top;\n",
              "    }\n",
              "\n",
              "    .dataframe thead th {\n",
              "        text-align: right;\n",
              "    }\n",
              "</style>\n",
              "<table border=\"1\" class=\"dataframe\">\n",
              "  <thead>\n",
              "    <tr style=\"text-align: right;\">\n",
              "      <th></th>\n",
              "      <th>21 Exitos HOT</th>\n",
              "    </tr>\n",
              "    <tr>\n",
              "      <th>numero de cartas HOT</th>\n",
              "      <th></th>\n",
              "    </tr>\n",
              "  </thead>\n",
              "  <tbody>\n",
              "    <tr>\n",
              "      <th>1</th>\n",
              "      <td>1003</td>\n",
              "    </tr>\n",
              "  </tbody>\n",
              "</table>\n",
              "</div>"
            ],
            "text/plain": [
              "                      21 Exitos HOT\n",
              "numero de cartas HOT               \n",
              "1                              1003"
            ]
          },
          "metadata": {
            "tags": []
          },
          "execution_count": 6
        }
      ]
    },
    {
      "cell_type": "code",
      "metadata": {
        "id": "syLeAkKKPrdb",
        "colab_type": "code",
        "colab": {
          "base_uri": "https://localhost:8080/",
          "height": 862
        },
        "outputId": "7c96f4dc-5c5d-4ede-96e4-86ff150b5f7d"
      },
      "source": [
        "dataPOKH.groupby('numero de cartas HOT').count().plot(ylim=(0,2000))\n",
        "dataPOKH.groupby('numero de cartas HOT').count().plot.bar()\n",
        "dataPOKH.hist(bins=5)"
      ],
      "execution_count": 23,
      "outputs": [
        {
          "output_type": "execute_result",
          "data": {
            "text/plain": [
              "array([[<matplotlib.axes._subplots.AxesSubplot object at 0x7f438aa151d0>,\n",
              "        <matplotlib.axes._subplots.AxesSubplot object at 0x7f438aa3af60>]],\n",
              "      dtype=object)"
            ]
          },
          "metadata": {
            "tags": []
          },
          "execution_count": 23
        },
        {
          "output_type": "display_data",
          "data": {
            "image/png": "[encoded data removed]",
            "text/plain": [
              "<Figure size 432x288 with 1 Axes>"
            ]
          },
          "metadata": {
            "tags": [],
            "needs_background": "light"
          }
        },
        {
          "output_type": "display_data",
          "data": {
            "image/png": "[encoded data removed]",
            "text/plain": [
              "<Figure size 432x288 with 1 Axes>"
            ]
          },
          "metadata": {
            "tags": [],
            "needs_background": "light"
          }
        },
        {
          "output_type": "display_data",
          "data": {
            "image/png": "[encoded data removed]",
            "text/plain": [
              "<Figure size 432x288 with 2 Axes>"
            ]
          },
          "metadata": {
            "tags": [],
            "needs_background": "light"
          }
        }
      ]
    },
    {
      "cell_type": "code",
      "metadata": {
        "id": "i4_ax27xPyO4",
        "colab_type": "code",
        "colab": {
          "base_uri": "https://localhost:8080/",
          "height": 301
        },
        "outputId": "969ba387-363e-464f-838f-9154ad2a772d"
      },
      "source": [
        "dataPOKC = pd.DataFrame({'numero de cartas COLD': cardCounterPOKC, '21 Exitos COLD': succsessCounterPOKC})\n",
        "dataPOKC.groupby('numero de cartas COLD').count()"
      ],
      "execution_count": 8,
      "outputs": [
        {
          "output_type": "execute_result",
          "data": {
            "text/html": [
              "<div>\n",
              "<style scoped>\n",
              "    .dataframe tbody tr th:only-of-type {\n",
              "        vertical-align: middle;\n",
              "    }\n",
              "\n",
              "    .dataframe tbody tr th {\n",
              "        vertical-align: top;\n",
              "    }\n",
              "\n",
              "    .dataframe thead th {\n",
              "        text-align: right;\n",
              "    }\n",
              "</style>\n",
              "<table border=\"1\" class=\"dataframe\">\n",
              "  <thead>\n",
              "    <tr style=\"text-align: right;\">\n",
              "      <th></th>\n",
              "      <th>21 Exitos COLD</th>\n",
              "    </tr>\n",
              "    <tr>\n",
              "      <th>numero de cartas COLD</th>\n",
              "      <th></th>\n",
              "    </tr>\n",
              "  </thead>\n",
              "  <tbody>\n",
              "    <tr>\n",
              "      <th>2</th>\n",
              "      <td>73</td>\n",
              "    </tr>\n",
              "    <tr>\n",
              "      <th>3</th>\n",
              "      <td>169</td>\n",
              "    </tr>\n",
              "    <tr>\n",
              "      <th>4</th>\n",
              "      <td>128</td>\n",
              "    </tr>\n",
              "    <tr>\n",
              "      <th>5</th>\n",
              "      <td>48</td>\n",
              "    </tr>\n",
              "    <tr>\n",
              "      <th>6</th>\n",
              "      <td>13</td>\n",
              "    </tr>\n",
              "    <tr>\n",
              "      <th>7</th>\n",
              "      <td>5</td>\n",
              "    </tr>\n",
              "    <tr>\n",
              "      <th>8</th>\n",
              "      <td>1</td>\n",
              "    </tr>\n",
              "  </tbody>\n",
              "</table>\n",
              "</div>"
            ],
            "text/plain": [
              "                       21 Exitos COLD\n",
              "numero de cartas COLD                \n",
              "2                                  73\n",
              "3                                 169\n",
              "4                                 128\n",
              "5                                  48\n",
              "6                                  13\n",
              "7                                   5\n",
              "8                                   1"
            ]
          },
          "metadata": {
            "tags": []
          },
          "execution_count": 8
        }
      ]
    },
    {
      "cell_type": "code",
      "metadata": {
        "id": "NOlGDgfMP7E5",
        "colab_type": "code",
        "colab": {
          "base_uri": "https://localhost:8080/",
          "height": 860
        },
        "outputId": "4f312441-e4ae-487d-d657-71482963b259"
      },
      "source": [
        "dataPOKC.groupby('numero de cartas COLD').count().plot()\n",
        "dataPOKC.groupby('numero de cartas COLD').count().plot.bar()\n",
        "dataPOKC.hist(bins=5)"
      ],
      "execution_count": 9,
      "outputs": [
        {
          "output_type": "execute_result",
          "data": {
            "text/plain": [
              "array([[<matplotlib.axes._subplots.AxesSubplot object at 0x7f438b3b1438>,\n",
              "        <matplotlib.axes._subplots.AxesSubplot object at 0x7f438b372588>]],\n",
              "      dtype=object)"
            ]
          },
          "metadata": {
            "tags": []
          },
          "execution_count": 9
        },
        {
          "output_type": "display_data",
          "data": {
            "image/png": "[encoded data removed]",
            "text/plain": [
              "<Figure size 432x288 with 1 Axes>"
            ]
          },
          "metadata": {
            "tags": [],
            "needs_background": "light"
          }
        },
        {
          "output_type": "display_data",
          "data": {
            "image/png": "[encoded data removed]",
            "text/plain": [
              "<Figure size 432x288 with 1 Axes>"
            ]
          },
          "metadata": {
            "tags": [],
            "needs_background": "light"
          }
        },
        {
          "output_type": "display_data",
          "data": {
            "image/png": "[encoded data removed]",
            "text/plain": [
              "<Figure size 432x288 with 2 Axes>"
            ]
          },
          "metadata": {
            "tags": [],
            "needs_background": "light"
          }
        }
      ]
    }
  ]
}
